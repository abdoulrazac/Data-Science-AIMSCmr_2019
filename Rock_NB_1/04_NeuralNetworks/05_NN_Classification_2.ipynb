{
  "nbformat": 4,
  "nbformat_minor": 0,
  "metadata": {
    "colab": {
      "name": "NN_Classification 2.ipynb",
      "provenance": [],
      "collapsed_sections": []
    },
    "kernelspec": {
      "display_name": "Python 3",
      "language": "python",
      "name": "python3"
    }
  },
  "cells": [
    {
      "cell_type": "markdown",
      "metadata": {
        "id": "Zs3Vxo5dmP7j",
        "colab_type": "text"
      },
      "source": [
        "## Feature based classification Prac 2\n",
        "\n",
        "### Spring School of Mathematics of Data Science (pre-cource)\n",
        "\n",
        "***Dr. Emmanuel Dufourq*** www.emmanueldufourq.com\n",
        "\n",
        "***African Institute for Mathematical Sciences***\n",
        "\n",
        "***Stellenbosch University***\n",
        "\n",
        "***2019***\n",
        "\n",
        "Credits:\n",
        "\n",
        "(extended from https://machinelearningmastery.com/handwritten-digit-recognition-using-convolutional-neural-networks-python-keras/)"
      ]
    },
    {
      "cell_type": "markdown",
      "metadata": {
        "id": "gpvo-bqTmP7m",
        "colab_type": "text"
      },
      "source": [
        "## Imports first"
      ]
    },
    {
      "cell_type": "code",
      "metadata": {
        "id": "nvCXvXq5mP7p",
        "colab_type": "code",
        "colab": {}
      },
      "source": [
        "from keras.models import Sequential\n",
        "from keras.layers import Dense\n",
        "from keras.datasets import mnist\n",
        "import numpy as np\n",
        "import matplotlib.pyplot as plt\n",
        "from keras.utils import np_utils\n",
        "from sklearn.metrics import accuracy_score\n",
        "from keras.utils import to_categorical\n",
        "from sklearn.preprocessing import LabelEncoder\n",
        "import pandas as pd\n",
        "%matplotlib inline"
      ],
      "execution_count": 0,
      "outputs": []
    },
    {
      "cell_type": "markdown",
      "metadata": {
        "id": "X1GTR35cmP7v",
        "colab_type": "text"
      },
      "source": [
        "## Load the dataset"
      ]
    },
    {
      "cell_type": "code",
      "metadata": {
        "id": "uQ_KjFJomP7x",
        "colab_type": "code",
        "colab": {}
      },
      "source": [
        "# load data\n",
        "(X_train, Y_train), (X_test, Y_test) = mnist.load_data()"
      ],
      "execution_count": 0,
      "outputs": []
    },
    {
      "cell_type": "markdown",
      "metadata": {
        "id": "E-Lw_bPQKQFX",
        "colab_type": "text"
      },
      "source": [
        "## View the shape"
      ]
    },
    {
      "cell_type": "code",
      "metadata": {
        "id": "ueyWl-aUmP72",
        "colab_type": "code",
        "colab": {}
      },
      "source": [
        "print('Training data shape : ', X_train.shape, Y_train.shape)\n",
        "print('Testing data shape : ', X_test.shape, Y_test.shape)"
      ],
      "execution_count": 0,
      "outputs": []
    },
    {
      "cell_type": "markdown",
      "metadata": {
        "id": "z51sdOntmP78",
        "colab_type": "text"
      },
      "source": [
        "## Find the unique numbers from the train labels"
      ]
    },
    {
      "cell_type": "code",
      "metadata": {
        "id": "o29O_gUTmP79",
        "colab_type": "code",
        "colab": {}
      },
      "source": [
        "classes = np.unique(Y_train)\n",
        "nClasses = len(classes)\n",
        "print('Total number of outputs : ', nClasses)\n",
        "print('Output classes : ', classes)"
      ],
      "execution_count": 0,
      "outputs": []
    },
    {
      "cell_type": "markdown",
      "metadata": {
        "id": "GMMjLgbimP8B",
        "colab_type": "text"
      },
      "source": [
        "## Plot some of the data"
      ]
    },
    {
      "cell_type": "code",
      "metadata": {
        "id": "qQpW4rajmP8C",
        "colab_type": "code",
        "colab": {}
      },
      "source": [
        "plt.figure(figsize=[10,5])\n",
        " \n",
        "# Display the first image in training data\n",
        "plt.subplot(121)\n",
        "plt.imshow(X_train[0,:,:], cmap='gray')\n",
        "plt.title(\"Ground Truth : {}\".format(Y_train[0]))\n",
        " \n",
        "# Display the first image in testing data\n",
        "plt.subplot(122)\n",
        "plt.imshow(X_test[0,:,:], cmap='gray')\n",
        "plt.title(\"Ground Truth : {}\".format(Y_test[0]))"
      ],
      "execution_count": 0,
      "outputs": []
    },
    {
      "cell_type": "markdown",
      "metadata": {
        "id": "2PY8KLU-mP8H",
        "colab_type": "text"
      },
      "source": [
        "## Flatten the data\n",
        "\n",
        "In this notebook we won't be making use of the data as \"images\" but rather as long vectors of length 784"
      ]
    },
    {
      "cell_type": "markdown",
      "metadata": {
        "id": "KVo2Tj7smP8I",
        "colab_type": "text"
      },
      "source": [
        "## This is what an example in the dataset looks like"
      ]
    },
    {
      "cell_type": "code",
      "metadata": {
        "id": "EtB2Fh5emP8J",
        "colab_type": "code",
        "colab": {}
      },
      "source": [
        "X_train[0].shape"
      ],
      "execution_count": 0,
      "outputs": []
    },
    {
      "cell_type": "code",
      "metadata": {
        "id": "KCIx4MeZmP8N",
        "colab_type": "code",
        "colab": {}
      },
      "source": [
        "X_train[0]"
      ],
      "execution_count": 0,
      "outputs": []
    },
    {
      "cell_type": "markdown",
      "metadata": {
        "id": "doXYy1uzKWjA",
        "colab_type": "text"
      },
      "source": [
        "## Convert from image shape to a vector shape\n",
        "\n",
        "We go from 28x28 pixel sized images to a vector of length 784"
      ]
    },
    {
      "cell_type": "code",
      "metadata": {
        "id": "kIZeZeP5mP8R",
        "colab_type": "code",
        "colab": {}
      },
      "source": [
        "num_pixels = X_train.shape[1] * X_train.shape[2]\n",
        "X_train = X_train.reshape(X_train.shape[0], num_pixels).astype('float32')\n",
        "X_test = X_test.reshape(X_test.shape[0], num_pixels).astype('float32')"
      ],
      "execution_count": 0,
      "outputs": []
    },
    {
      "cell_type": "markdown",
      "metadata": {
        "id": "pAvNzShjmP8U",
        "colab_type": "text"
      },
      "source": [
        "## Now the data is a long vector\n",
        "\n",
        "There are 60,000 examples for which each is a vector of length 784"
      ]
    },
    {
      "cell_type": "code",
      "metadata": {
        "id": "yQW62Xe0mP8V",
        "colab_type": "code",
        "colab": {}
      },
      "source": [
        "X_train.shape"
      ],
      "execution_count": 0,
      "outputs": []
    },
    {
      "cell_type": "markdown",
      "metadata": {
        "id": "zPx7o41CK2S-",
        "colab_type": "text"
      },
      "source": [
        "## View the first example"
      ]
    },
    {
      "cell_type": "code",
      "metadata": {
        "id": "YNkeCMoUmP8Y",
        "colab_type": "code",
        "colab": {}
      },
      "source": [
        "X_train[0]"
      ],
      "execution_count": 0,
      "outputs": []
    },
    {
      "cell_type": "markdown",
      "metadata": {
        "id": "BykRwF2UmP8b",
        "colab_type": "text"
      },
      "source": [
        "## Normalise\n",
        "\n",
        "We need to normalise the data since the values range from 0 to 255. Training NNs on data ranging between [0,1] can be easier"
      ]
    },
    {
      "cell_type": "code",
      "metadata": {
        "id": "FH2lcHF3mP8c",
        "colab_type": "code",
        "colab": {}
      },
      "source": [
        "X_train = X_train / 255\n",
        "X_test = X_test / 255"
      ],
      "execution_count": 0,
      "outputs": []
    },
    {
      "cell_type": "markdown",
      "metadata": {
        "id": "kj0QhPSsmP8e",
        "colab_type": "text"
      },
      "source": [
        "## One hot encoding"
      ]
    },
    {
      "cell_type": "markdown",
      "metadata": {
        "id": "BQWHZ6FumP8f",
        "colab_type": "text"
      },
      "source": [
        "We're going to want our labels as one-hot vectors, which are vectors that holds mostly 0's and one 1. It's easiest to see this in a example. As a one-hot vector, the number 0 is represented as [1, 0, 0, 0, 0, 0, 0, 0, 0, 0], and 4 is represented as [0, 0, 0, 0, 1, 0, 0, 0, 0, 0].\n",
        "\n",
        "One-hot encoded vectors allow us to map each category in our set of labels to a vector where only a single value is 1.\n",
        "\n",
        "0 maps to [1, 0, 0, 0, 0, 0, 0, 0, 0, 0]\n",
        "\n",
        "1 maps to [0, 1, 0, 0, 0, 0, 0, 0, 0, 0]\n",
        "\n",
        "2 maps to [0, 0, 2, 0, 0, 0, 0, 0, 0, 0]\n",
        "\n",
        "Notes on one-hot encoding: https://machinelearningmastery.com/why-one-hot-encode-data-in-machine-learning/"
      ]
    },
    {
      "cell_type": "markdown",
      "metadata": {
        "id": "sGRXrRTYmP8g",
        "colab_type": "text"
      },
      "source": [
        "## Before"
      ]
    },
    {
      "cell_type": "code",
      "metadata": {
        "id": "wrKyI7DamP8g",
        "colab_type": "code",
        "colab": {}
      },
      "source": [
        "Y_test[0]"
      ],
      "execution_count": 0,
      "outputs": []
    },
    {
      "cell_type": "markdown",
      "metadata": {
        "id": "UfClFp-6K7P6",
        "colab_type": "text"
      },
      "source": [
        "## Convert from categorical labels to one-hot encoded vectors\n",
        "\n",
        "In this case there are 10 classes so we can tell the function to convert into a vector of length 10"
      ]
    },
    {
      "cell_type": "code",
      "metadata": {
        "id": "i3xjsPnVmP8j",
        "colab_type": "code",
        "colab": {}
      },
      "source": [
        "Y_train = np_utils.to_categorical(Y_train, 10)\n",
        "Y_test = np_utils.to_categorical(Y_test, 10)\n",
        "num_classes = 10"
      ],
      "execution_count": 0,
      "outputs": []
    },
    {
      "cell_type": "markdown",
      "metadata": {
        "id": "92H9U6LkmP8m",
        "colab_type": "text"
      },
      "source": [
        "## After"
      ]
    },
    {
      "cell_type": "code",
      "metadata": {
        "id": "tiiXZrnUmP8n",
        "colab_type": "code",
        "colab": {}
      },
      "source": [
        "Y_test[0]"
      ],
      "execution_count": 0,
      "outputs": []
    },
    {
      "cell_type": "markdown",
      "metadata": {
        "id": "VungsdeHmP8u",
        "colab_type": "text"
      },
      "source": [
        "## Task: Create a neural network model\n",
        "\n",
        "* You will have to define a model\n",
        "* You can add a number of dense layers\n",
        "* Remember to specify and intput dimension for the first layer (this is always  the case for the first layer only)\n",
        "* You will have to compile the model and define a metric"
      ]
    },
    {
      "cell_type": "code",
      "metadata": {
        "id": "gozmsPxhmP8v",
        "colab_type": "code",
        "colab": {}
      },
      "source": [
        "def baseline_model():\n",
        "    # create model\n",
        "    ## YOUR CODE HERE\n",
        "    \n",
        "    # Compile the model\n",
        "    ## YOUR CODE HERE\n",
        "    return model"
      ],
      "execution_count": 0,
      "outputs": []
    },
    {
      "cell_type": "code",
      "metadata": {
        "id": "Q03EcUrxmP8x",
        "colab_type": "code",
        "colab": {}
      },
      "source": [
        "model = baseline_model()"
      ],
      "execution_count": 0,
      "outputs": []
    },
    {
      "cell_type": "markdown",
      "metadata": {
        "id": "bUN6K31smP80",
        "colab_type": "text"
      },
      "source": [
        "## Determine the number of trainable parameters"
      ]
    },
    {
      "cell_type": "code",
      "metadata": {
        "id": "_DxDanOHmP80",
        "colab_type": "code",
        "colab": {}
      },
      "source": [
        "model.summary()"
      ],
      "execution_count": 0,
      "outputs": []
    },
    {
      "cell_type": "markdown",
      "metadata": {
        "id": "ifPs0mftmP84",
        "colab_type": "text"
      },
      "source": [
        "## Begin training"
      ]
    },
    {
      "cell_type": "code",
      "metadata": {
        "id": "j8RZc1rhmP84",
        "colab_type": "code",
        "colab": {}
      },
      "source": [
        "model.fit(X_train, Y_train, validation_data=(X_test, Y_test), epochs=5, batch_size=200, verbose=2)"
      ],
      "execution_count": 0,
      "outputs": []
    },
    {
      "cell_type": "markdown",
      "metadata": {
        "id": "9do3Cl8vmP87",
        "colab_type": "text"
      },
      "source": [
        "## Predict on one example"
      ]
    },
    {
      "cell_type": "code",
      "metadata": {
        "id": "OnI4SnbEmP88",
        "colab_type": "code",
        "colab": {}
      },
      "source": [
        "model.predict_classes(np.expand_dims(X_test[0], axis=0))"
      ],
      "execution_count": 0,
      "outputs": []
    },
    {
      "cell_type": "markdown",
      "metadata": {
        "id": "_j9LecHgmP8_",
        "colab_type": "text"
      },
      "source": [
        "## Predict on the test data"
      ]
    },
    {
      "cell_type": "code",
      "metadata": {
        "id": "7TtfkDWjmP8_",
        "colab_type": "code",
        "colab": {}
      },
      "source": [
        "predictions = model.predict_classes(X_test)"
      ],
      "execution_count": 0,
      "outputs": []
    },
    {
      "cell_type": "code",
      "metadata": {
        "id": "xBmZspLUmP9C",
        "colab_type": "code",
        "colab": {}
      },
      "source": [
        "predictions"
      ],
      "execution_count": 0,
      "outputs": []
    },
    {
      "cell_type": "markdown",
      "metadata": {
        "id": "yo4UgmBvmP9F",
        "colab_type": "text"
      },
      "source": [
        "## Compute the accuracy"
      ]
    },
    {
      "cell_type": "code",
      "metadata": {
        "id": "NwJwKLwRmP9G",
        "colab_type": "code",
        "colab": {}
      },
      "source": [
        "correct_values = np.argmax(Y_test,axis=1)"
      ],
      "execution_count": 0,
      "outputs": []
    },
    {
      "cell_type": "code",
      "metadata": {
        "id": "N7keRohxmP9H",
        "colab_type": "code",
        "colab": {}
      },
      "source": [
        "accuracy_score(predictions,correct_values)*100"
      ],
      "execution_count": 0,
      "outputs": []
    }
  ]
}