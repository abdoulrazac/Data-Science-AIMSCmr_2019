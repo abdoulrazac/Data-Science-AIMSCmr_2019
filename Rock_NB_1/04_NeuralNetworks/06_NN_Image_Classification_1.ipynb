{
  "nbformat": 4,
  "nbformat_minor": 0,
  "metadata": {
    "colab": {
      "name": "NN_Image_Classification 1.ipynb",
      "provenance": [],
      "collapsed_sections": []
    },
    "kernelspec": {
      "name": "python3",
      "display_name": "Python 3"
    },
    "accelerator": "GPU"
  },
  "cells": [
    {
      "cell_type": "markdown",
      "metadata": {
        "id": "Zs3Vxo5dmP7j",
        "colab_type": "text"
      },
      "source": [
        "## Image classification Prac 1\n",
        "\n",
        "### Spring School of Mathematics of Data Science (pre-cource)\n",
        "\n",
        "***Dr. Emmanuel Dufourq*** www.emmanueldufourq.com\n",
        "\n",
        "***African Institute for Mathematical Sciences***\n",
        "\n",
        "***Stellenbosch University***\n",
        "\n",
        "***2019***\n",
        "\n",
        "Credits:\n",
        "\n",
        "(extended from https://machinelearningmastery.com/handwritten-digit-recognition-using-convolutional-neural-networks-python-keras/)\n",
        "\n",
        "***NOTE***\n",
        "\n",
        "Be sure to use hardware acceleration to use the GPU. Click on `Runtime`, change `runtime type`, and select `GPU` for the *hardware accelerator* option."
      ]
    },
    {
      "cell_type": "markdown",
      "metadata": {
        "id": "gpvo-bqTmP7m",
        "colab_type": "text"
      },
      "source": [
        "## Imports first"
      ]
    },
    {
      "cell_type": "code",
      "metadata": {
        "id": "nvCXvXq5mP7p",
        "colab_type": "code",
        "colab": {}
      },
      "source": [
        "from keras.models import Sequential\n",
        "import tensorflow as tf\n",
        "from keras.layers import Dense\n",
        "from keras.datasets import fashion_mnist\n",
        "import numpy as np\n",
        "import matplotlib.pyplot as plt\n",
        "from keras.utils import np_utils\n",
        "from sklearn.metrics import accuracy_score, confusion_matrix\n",
        "from keras.utils import to_categorical\n",
        "from sklearn.preprocessing import LabelEncoder\n",
        "import pandas as pd\n",
        "%matplotlib inline"
      ],
      "execution_count": 0,
      "outputs": []
    },
    {
      "cell_type": "markdown",
      "metadata": {
        "id": "X1GTR35cmP7v",
        "colab_type": "text"
      },
      "source": [
        "## Load the dataset"
      ]
    },
    {
      "cell_type": "code",
      "metadata": {
        "id": "uQ_KjFJomP7x",
        "colab_type": "code",
        "outputId": "583e9cb8-11b2-408d-8577-14899acdb535",
        "colab": {
          "base_uri": "https://localhost:8080/",
          "height": 153
        }
      },
      "source": [
        "# load data\n",
        "(X_train, Y_train), (X_test, Y_test) = tf.keras.datasets.fashion_mnist.load_data()"
      ],
      "execution_count": 0,
      "outputs": [
        {
          "output_type": "stream",
          "text": [
            "Downloading data from https://storage.googleapis.com/tensorflow/tf-keras-datasets/train-labels-idx1-ubyte.gz\n",
            "32768/29515 [=================================] - 0s 0us/step\n",
            "Downloading data from https://storage.googleapis.com/tensorflow/tf-keras-datasets/train-images-idx3-ubyte.gz\n",
            "26427392/26421880 [==============================] - 0s 0us/step\n",
            "Downloading data from https://storage.googleapis.com/tensorflow/tf-keras-datasets/t10k-labels-idx1-ubyte.gz\n",
            "8192/5148 [===============================================] - 0s 0us/step\n",
            "Downloading data from https://storage.googleapis.com/tensorflow/tf-keras-datasets/t10k-images-idx3-ubyte.gz\n",
            "4423680/4422102 [==============================] - 0s 0us/step\n"
          ],
          "name": "stdout"
        }
      ]
    },
    {
      "cell_type": "markdown",
      "metadata": {
        "id": "E-Lw_bPQKQFX",
        "colab_type": "text"
      },
      "source": [
        "## View the shape"
      ]
    },
    {
      "cell_type": "code",
      "metadata": {
        "id": "ueyWl-aUmP72",
        "colab_type": "code",
        "outputId": "62f93cc3-c3e8-4ee4-e442-fe7f73675c0a",
        "colab": {
          "base_uri": "https://localhost:8080/",
          "height": 34
        }
      },
      "source": [
        "print('Training data shape : ', X_train.shape, Y_train.shape)"
      ],
      "execution_count": 0,
      "outputs": [
        {
          "output_type": "stream",
          "text": [
            "Training data shape :  (60000, 28, 28) (60000,)\n"
          ],
          "name": "stdout"
        }
      ]
    },
    {
      "cell_type": "code",
      "metadata": {
        "id": "3bsoluyzBOYR",
        "colab_type": "code",
        "outputId": "b4a042b5-82a3-4e29-e965-e5ef547a0029",
        "colab": {
          "base_uri": "https://localhost:8080/",
          "height": 34
        }
      },
      "source": [
        "print('Testing data shape : ', X_test.shape, Y_test.shape)"
      ],
      "execution_count": 0,
      "outputs": [
        {
          "output_type": "stream",
          "text": [
            "Testing data shape :  (10000, 28, 28) (10000,)\n"
          ],
          "name": "stdout"
        }
      ]
    },
    {
      "cell_type": "markdown",
      "metadata": {
        "id": "z51sdOntmP78",
        "colab_type": "text"
      },
      "source": [
        "## Find the unique numbers from the train labels"
      ]
    },
    {
      "cell_type": "code",
      "metadata": {
        "id": "o29O_gUTmP79",
        "colab_type": "code",
        "outputId": "71c34f8b-4100-4ad0-feab-8c0304e9b1b3",
        "colab": {
          "base_uri": "https://localhost:8080/",
          "height": 51
        }
      },
      "source": [
        "classes = np.unique(Y_train)\n",
        "nClasses = len(classes)\n",
        "print('Total number of outputs : ', nClasses)\n",
        "print('Output classes : ', classes)"
      ],
      "execution_count": 0,
      "outputs": [
        {
          "output_type": "stream",
          "text": [
            "Total number of outputs :  10\n",
            "Output classes :  [0 1 2 3 4 5 6 7 8 9]\n"
          ],
          "name": "stdout"
        }
      ]
    },
    {
      "cell_type": "markdown",
      "metadata": {
        "id": "GMMjLgbimP8B",
        "colab_type": "text"
      },
      "source": [
        "## Plot some of the data"
      ]
    },
    {
      "cell_type": "code",
      "metadata": {
        "id": "qQpW4rajmP8C",
        "colab_type": "code",
        "outputId": "05a4adbf-d3fc-4ab2-8964-2216b78e657c",
        "colab": {
          "base_uri": "https://localhost:8080/",
          "height": 335
        }
      },
      "source": [
        "data_point = 15\n",
        "\n",
        "plt.figure(figsize=[10,5])\n",
        " \n",
        "# Display the first image in training data\n",
        "plt.subplot(121)\n",
        "plt.imshow(X_train[data_point,:,:], cmap='gray')\n",
        "plt.title(\"Ground Truth : {}\".format(Y_train[data_point]))\n",
        " \n",
        "# Display the first image in testing data\n",
        "plt.subplot(122)\n",
        "plt.imshow(X_test[data_point,:,:], cmap='gray')\n",
        "plt.title(\"Ground Truth : {}\".format(Y_test[data_point]))"
      ],
      "execution_count": 0,
      "outputs": [
        {
          "output_type": "execute_result",
          "data": {
            "text/plain": [
              "Text(0.5, 1.0, 'Ground Truth : 1')"
            ]
          },
          "metadata": {
            "tags": []
          },
          "execution_count": 11
        },
        {
          "output_type": "display_data",
          "data": {
            "image/png": "[encoded data removed]",
            "text/plain": [
              "<Figure size 720x360 with 2 Axes>"
            ]
          },
          "metadata": {
            "tags": []
          }
        }
      ]
    },
    {
      "cell_type": "markdown",
      "metadata": {
        "id": "BA_mGK_NVHwn",
        "colab_type": "text"
      },
      "source": [
        "## Reshape needed\n",
        "\n",
        "Keras wants to know the depth of an image. \n",
        "\n",
        "For CNNS, Keras wants the format of the data as follows: [batches, width, height, depth]. \n",
        "\n",
        "In this case the colour channel/depth of the images is 1. Currently the shape is:"
      ]
    },
    {
      "cell_type": "code",
      "metadata": {
        "id": "TBbn1qONB0M8",
        "colab_type": "code",
        "outputId": "7c7d9178-b0ee-4199-de6d-45105d8ec6bf",
        "colab": {
          "base_uri": "https://localhost:8080/",
          "height": 34
        }
      },
      "source": [
        "X_train.shape"
      ],
      "execution_count": 0,
      "outputs": [
        {
          "output_type": "execute_result",
          "data": {
            "text/plain": [
              "(60000, 28, 28)"
            ]
          },
          "metadata": {
            "tags": []
          },
          "execution_count": 12
        }
      ]
    },
    {
      "cell_type": "markdown",
      "metadata": {
        "id": "a55ZpEbCB6kQ",
        "colab_type": "text"
      },
      "source": [
        "But this doesn't have a depth value. So we can reshape it"
      ]
    },
    {
      "cell_type": "code",
      "metadata": {
        "id": "D8HTp2YHVH4_",
        "colab_type": "code",
        "colab": {}
      },
      "source": [
        "X_train = np.reshape(X_train, (X_train.shape[0], X_train.shape[1], X_train.shape[2], 1))\n",
        "X_test = np.reshape(X_test, (X_test.shape[0], X_test.shape[1], X_test.shape[2], 1))"
      ],
      "execution_count": 0,
      "outputs": []
    },
    {
      "cell_type": "markdown",
      "metadata": {
        "colab_type": "text",
        "id": "-lQP7CElWVfe"
      },
      "source": [
        "## View the shape"
      ]
    },
    {
      "cell_type": "code",
      "metadata": {
        "colab_type": "code",
        "id": "5QKOvMPaWVfh",
        "outputId": "4ffe7a77-39bc-4d2b-85fc-c5b942cd7ec0",
        "colab": {
          "base_uri": "https://localhost:8080/",
          "height": 34
        }
      },
      "source": [
        "print('Training data shape : ', X_train.shape, Y_train.shape)"
      ],
      "execution_count": 0,
      "outputs": [
        {
          "output_type": "stream",
          "text": [
            "Training data shape :  (60000, 28, 28, 1) (60000,)\n"
          ],
          "name": "stdout"
        }
      ]
    },
    {
      "cell_type": "code",
      "metadata": {
        "id": "zzGxSUONCRb2",
        "colab_type": "code",
        "outputId": "c4644456-7f6f-411f-f3be-69de75dd4fe5",
        "colab": {
          "base_uri": "https://localhost:8080/",
          "height": 34
        }
      },
      "source": [
        "print('Testing data shape : ', X_test.shape, Y_test.shape)"
      ],
      "execution_count": 0,
      "outputs": [
        {
          "output_type": "stream",
          "text": [
            "Testing data shape :  (10000, 28, 28, 1) (10000,)\n"
          ],
          "name": "stdout"
        }
      ]
    },
    {
      "cell_type": "markdown",
      "metadata": {
        "id": "AyXyan4NCnVL",
        "colab_type": "text"
      },
      "source": [
        "## Take a look at a single image"
      ]
    },
    {
      "cell_type": "code",
      "metadata": {
        "id": "YNkeCMoUmP8Y",
        "colab_type": "code",
        "outputId": "f5845d0b-c5fe-4ec7-cb98-6f496581747d",
        "colab": {
          "base_uri": "https://localhost:8080/",
          "height": 1000
        }
      },
      "source": [
        "X_train[0]"
      ],
      "execution_count": 0,
      "outputs": [
        {
          "output_type": "execute_result",
          "data": {
            "text/plain": [
              "array([[[  0],\n",
              "        [  0],\n",
              "        [  0],\n",
              "        [  0],\n",
              "        [  0],\n",
              "        [  0],\n",
              "        [  0],\n",
              "        [  0],\n",
              "        [  0],\n",
              "        [  0],\n",
              "        [  0],\n",
              "        [  0],\n",
              "        [  0],\n",
              "        [  0],\n",
              "        [  0],\n",
              "        [  0],\n",
              "        [  0],\n",
              "        [  0],\n",
              "        [  0],\n",
              "        [  0],\n",
              "        [  0],\n",
              "        [  0],\n",
              "        [  0],\n",
              "        [  0],\n",
              "        [  0],\n",
              "        [  0],\n",
              "        [  0],\n",
              "        [  0]],\n",
              "\n",
              "       [[  0],\n",
              "        [  0],\n",
              "        [  0],\n",
              "        [  0],\n",
              "        [  0],\n",
              "        [  0],\n",
              "        [  0],\n",
              "        [  0],\n",
              "        [  0],\n",
              "        [  0],\n",
              "        [  0],\n",
              "        [  0],\n",
              "        [  0],\n",
              "        [  0],\n",
              "        [  0],\n",
              "        [  0],\n",
              "        [  0],\n",
              "        [  0],\n",
              "        [  0],\n",
              "        [  0],\n",
              "        [  0],\n",
              "        [  0],\n",
              "        [  0],\n",
              "        [  0],\n",
              "        [  0],\n",
              "        [  0],\n",
              "        [  0],\n",
              "        [  0]],\n",
              "\n",
              "       [[  0],\n",
              "        [  0],\n",
              "        [  0],\n",
              "        [  0],\n",
              "        [  0],\n",
              "        [  0],\n",
              "        [  0],\n",
              "        [  0],\n",
              "        [  0],\n",
              "        [  0],\n",
              "        [  0],\n",
              "        [  0],\n",
              "        [  0],\n",
              "        [  0],\n",
              "        [  0],\n",
              "        [  0],\n",
              "        [  0],\n",
              "        [  0],\n",
              "        [  0],\n",
              "        [  0],\n",
              "        [  0],\n",
              "        [  0],\n",
              "        [  0],\n",
              "        [  0],\n",
              "        [  0],\n",
              "        [  0],\n",
              "        [  0],\n",
              "        [  0]],\n",
              "\n",
              "       [[  0],\n",
              "        [  0],\n",
              "        [  0],\n",
              "        [  0],\n",
              "        [  0],\n",
              "        [  0],\n",
              "        [  0],\n",
              "        [  0],\n",
              "        [  0],\n",
              "        [  0],\n",
              "        [  0],\n",
              "        [  0],\n",
              "        [  1],\n",
              "        [  0],\n",
              "        [  0],\n",
              "        [ 13],\n",
              "        [ 73],\n",
              "        [  0],\n",
              "        [  0],\n",
              "        [  1],\n",
              "        [  4],\n",
              "        [  0],\n",
              "        [  0],\n",
              "        [  0],\n",
              "        [  0],\n",
              "        [  1],\n",
              "        [  1],\n",
              "        [  0]],\n",
              "\n",
              "       [[  0],\n",
              "        [  0],\n",
              "        [  0],\n",
              "        [  0],\n",
              "        [  0],\n",
              "        [  0],\n",
              "        [  0],\n",
              "        [  0],\n",
              "        [  0],\n",
              "        [  0],\n",
              "        [  0],\n",
              "        [  0],\n",
              "        [  3],\n",
              "        [  0],\n",
              "        [ 36],\n",
              "        [136],\n",
              "        [127],\n",
              "        [ 62],\n",
              "        [ 54],\n",
              "        [  0],\n",
              "        [  0],\n",
              "        [  0],\n",
              "        [  1],\n",
              "        [  3],\n",
              "        [  4],\n",
              "        [  0],\n",
              "        [  0],\n",
              "        [  3]],\n",
              "\n",
              "       [[  0],\n",
              "        [  0],\n",
              "        [  0],\n",
              "        [  0],\n",
              "        [  0],\n",
              "        [  0],\n",
              "        [  0],\n",
              "        [  0],\n",
              "        [  0],\n",
              "        [  0],\n",
              "        [  0],\n",
              "        [  0],\n",
              "        [  6],\n",
              "        [  0],\n",
              "        [102],\n",
              "        [204],\n",
              "        [176],\n",
              "        [134],\n",
              "        [144],\n",
              "        [123],\n",
              "        [ 23],\n",
              "        [  0],\n",
              "        [  0],\n",
              "        [  0],\n",
              "        [  0],\n",
              "        [ 12],\n",
              "        [ 10],\n",
              "        [  0]],\n",
              "\n",
              "       [[  0],\n",
              "        [  0],\n",
              "        [  0],\n",
              "        [  0],\n",
              "        [  0],\n",
              "        [  0],\n",
              "        [  0],\n",
              "        [  0],\n",
              "        [  0],\n",
              "        [  0],\n",
              "        [  0],\n",
              "        [  0],\n",
              "        [  0],\n",
              "        [  0],\n",
              "        [155],\n",
              "        [236],\n",
              "        [207],\n",
              "        [178],\n",
              "        [107],\n",
              "        [156],\n",
              "        [161],\n",
              "        [109],\n",
              "        [ 64],\n",
              "        [ 23],\n",
              "        [ 77],\n",
              "        [130],\n",
              "        [ 72],\n",
              "        [ 15]],\n",
              "\n",
              "       [[  0],\n",
              "        [  0],\n",
              "        [  0],\n",
              "        [  0],\n",
              "        [  0],\n",
              "        [  0],\n",
              "        [  0],\n",
              "        [  0],\n",
              "        [  0],\n",
              "        [  0],\n",
              "        [  0],\n",
              "        [  1],\n",
              "        [  0],\n",
              "        [ 69],\n",
              "        [207],\n",
              "        [223],\n",
              "        [218],\n",
              "        [216],\n",
              "        [216],\n",
              "        [163],\n",
              "        [127],\n",
              "        [121],\n",
              "        [122],\n",
              "        [146],\n",
              "        [141],\n",
              "        [ 88],\n",
              "        [172],\n",
              "        [ 66]],\n",
              "\n",
              "       [[  0],\n",
              "        [  0],\n",
              "        [  0],\n",
              "        [  0],\n",
              "        [  0],\n",
              "        [  0],\n",
              "        [  0],\n",
              "        [  0],\n",
              "        [  0],\n",
              "        [  1],\n",
              "        [  1],\n",
              "        [  1],\n",
              "        [  0],\n",
              "        [200],\n",
              "        [232],\n",
              "        [232],\n",
              "        [233],\n",
              "        [229],\n",
              "        [223],\n",
              "        [223],\n",
              "        [215],\n",
              "        [213],\n",
              "        [164],\n",
              "        [127],\n",
              "        [123],\n",
              "        [196],\n",
              "        [229],\n",
              "        [  0]],\n",
              "\n",
              "       [[  0],\n",
              "        [  0],\n",
              "        [  0],\n",
              "        [  0],\n",
              "        [  0],\n",
              "        [  0],\n",
              "        [  0],\n",
              "        [  0],\n",
              "        [  0],\n",
              "        [  0],\n",
              "        [  0],\n",
              "        [  0],\n",
              "        [  0],\n",
              "        [183],\n",
              "        [225],\n",
              "        [216],\n",
              "        [223],\n",
              "        [228],\n",
              "        [235],\n",
              "        [227],\n",
              "        [224],\n",
              "        [222],\n",
              "        [224],\n",
              "        [221],\n",
              "        [223],\n",
              "        [245],\n",
              "        [173],\n",
              "        [  0]],\n",
              "\n",
              "       [[  0],\n",
              "        [  0],\n",
              "        [  0],\n",
              "        [  0],\n",
              "        [  0],\n",
              "        [  0],\n",
              "        [  0],\n",
              "        [  0],\n",
              "        [  0],\n",
              "        [  0],\n",
              "        [  0],\n",
              "        [  0],\n",
              "        [  0],\n",
              "        [193],\n",
              "        [228],\n",
              "        [218],\n",
              "        [213],\n",
              "        [198],\n",
              "        [180],\n",
              "        [212],\n",
              "        [210],\n",
              "        [211],\n",
              "        [213],\n",
              "        [223],\n",
              "        [220],\n",
              "        [243],\n",
              "        [202],\n",
              "        [  0]],\n",
              "\n",
              "       [[  0],\n",
              "        [  0],\n",
              "        [  0],\n",
              "        [  0],\n",
              "        [  0],\n",
              "        [  0],\n",
              "        [  0],\n",
              "        [  0],\n",
              "        [  0],\n",
              "        [  1],\n",
              "        [  3],\n",
              "        [  0],\n",
              "        [ 12],\n",
              "        [219],\n",
              "        [220],\n",
              "        [212],\n",
              "        [218],\n",
              "        [192],\n",
              "        [169],\n",
              "        [227],\n",
              "        [208],\n",
              "        [218],\n",
              "        [224],\n",
              "        [212],\n",
              "        [226],\n",
              "        [197],\n",
              "        [209],\n",
              "        [ 52]],\n",
              "\n",
              "       [[  0],\n",
              "        [  0],\n",
              "        [  0],\n",
              "        [  0],\n",
              "        [  0],\n",
              "        [  0],\n",
              "        [  0],\n",
              "        [  0],\n",
              "        [  0],\n",
              "        [  0],\n",
              "        [  6],\n",
              "        [  0],\n",
              "        [ 99],\n",
              "        [244],\n",
              "        [222],\n",
              "        [220],\n",
              "        [218],\n",
              "        [203],\n",
              "        [198],\n",
              "        [221],\n",
              "        [215],\n",
              "        [213],\n",
              "        [222],\n",
              "        [220],\n",
              "        [245],\n",
              "        [119],\n",
              "        [167],\n",
              "        [ 56]],\n",
              "\n",
              "       [[  0],\n",
              "        [  0],\n",
              "        [  0],\n",
              "        [  0],\n",
              "        [  0],\n",
              "        [  0],\n",
              "        [  0],\n",
              "        [  0],\n",
              "        [  0],\n",
              "        [  4],\n",
              "        [  0],\n",
              "        [  0],\n",
              "        [ 55],\n",
              "        [236],\n",
              "        [228],\n",
              "        [230],\n",
              "        [228],\n",
              "        [240],\n",
              "        [232],\n",
              "        [213],\n",
              "        [218],\n",
              "        [223],\n",
              "        [234],\n",
              "        [217],\n",
              "        [217],\n",
              "        [209],\n",
              "        [ 92],\n",
              "        [  0]],\n",
              "\n",
              "       [[  0],\n",
              "        [  0],\n",
              "        [  1],\n",
              "        [  4],\n",
              "        [  6],\n",
              "        [  7],\n",
              "        [  2],\n",
              "        [  0],\n",
              "        [  0],\n",
              "        [  0],\n",
              "        [  0],\n",
              "        [  0],\n",
              "        [237],\n",
              "        [226],\n",
              "        [217],\n",
              "        [223],\n",
              "        [222],\n",
              "        [219],\n",
              "        [222],\n",
              "        [221],\n",
              "        [216],\n",
              "        [223],\n",
              "        [229],\n",
              "        [215],\n",
              "        [218],\n",
              "        [255],\n",
              "        [ 77],\n",
              "        [  0]],\n",
              "\n",
              "       [[  0],\n",
              "        [  3],\n",
              "        [  0],\n",
              "        [  0],\n",
              "        [  0],\n",
              "        [  0],\n",
              "        [  0],\n",
              "        [  0],\n",
              "        [  0],\n",
              "        [ 62],\n",
              "        [145],\n",
              "        [204],\n",
              "        [228],\n",
              "        [207],\n",
              "        [213],\n",
              "        [221],\n",
              "        [218],\n",
              "        [208],\n",
              "        [211],\n",
              "        [218],\n",
              "        [224],\n",
              "        [223],\n",
              "        [219],\n",
              "        [215],\n",
              "        [224],\n",
              "        [244],\n",
              "        [159],\n",
              "        [  0]],\n",
              "\n",
              "       [[  0],\n",
              "        [  0],\n",
              "        [  0],\n",
              "        [  0],\n",
              "        [ 18],\n",
              "        [ 44],\n",
              "        [ 82],\n",
              "        [107],\n",
              "        [189],\n",
              "        [228],\n",
              "        [220],\n",
              "        [222],\n",
              "        [217],\n",
              "        [226],\n",
              "        [200],\n",
              "        [205],\n",
              "        [211],\n",
              "        [230],\n",
              "        [224],\n",
              "        [234],\n",
              "        [176],\n",
              "        [188],\n",
              "        [250],\n",
              "        [248],\n",
              "        [233],\n",
              "        [238],\n",
              "        [215],\n",
              "        [  0]],\n",
              "\n",
              "       [[  0],\n",
              "        [ 57],\n",
              "        [187],\n",
              "        [208],\n",
              "        [224],\n",
              "        [221],\n",
              "        [224],\n",
              "        [208],\n",
              "        [204],\n",
              "        [214],\n",
              "        [208],\n",
              "        [209],\n",
              "        [200],\n",
              "        [159],\n",
              "        [245],\n",
              "        [193],\n",
              "        [206],\n",
              "        [223],\n",
              "        [255],\n",
              "        [255],\n",
              "        [221],\n",
              "        [234],\n",
              "        [221],\n",
              "        [211],\n",
              "        [220],\n",
              "        [232],\n",
              "        [246],\n",
              "        [  0]],\n",
              "\n",
              "       [[  3],\n",
              "        [202],\n",
              "        [228],\n",
              "        [224],\n",
              "        [221],\n",
              "        [211],\n",
              "        [211],\n",
              "        [214],\n",
              "        [205],\n",
              "        [205],\n",
              "        [205],\n",
              "        [220],\n",
              "        [240],\n",
              "        [ 80],\n",
              "        [150],\n",
              "        [255],\n",
              "        [229],\n",
              "        [221],\n",
              "        [188],\n",
              "        [154],\n",
              "        [191],\n",
              "        [210],\n",
              "        [204],\n",
              "        [209],\n",
              "        [222],\n",
              "        [228],\n",
              "        [225],\n",
              "        [  0]],\n",
              "\n",
              "       [[ 98],\n",
              "        [233],\n",
              "        [198],\n",
              "        [210],\n",
              "        [222],\n",
              "        [229],\n",
              "        [229],\n",
              "        [234],\n",
              "        [249],\n",
              "        [220],\n",
              "        [194],\n",
              "        [215],\n",
              "        [217],\n",
              "        [241],\n",
              "        [ 65],\n",
              "        [ 73],\n",
              "        [106],\n",
              "        [117],\n",
              "        [168],\n",
              "        [219],\n",
              "        [221],\n",
              "        [215],\n",
              "        [217],\n",
              "        [223],\n",
              "        [223],\n",
              "        [224],\n",
              "        [229],\n",
              "        [ 29]],\n",
              "\n",
              "       [[ 75],\n",
              "        [204],\n",
              "        [212],\n",
              "        [204],\n",
              "        [193],\n",
              "        [205],\n",
              "        [211],\n",
              "        [225],\n",
              "        [216],\n",
              "        [185],\n",
              "        [197],\n",
              "        [206],\n",
              "        [198],\n",
              "        [213],\n",
              "        [240],\n",
              "        [195],\n",
              "        [227],\n",
              "        [245],\n",
              "        [239],\n",
              "        [223],\n",
              "        [218],\n",
              "        [212],\n",
              "        [209],\n",
              "        [222],\n",
              "        [220],\n",
              "        [221],\n",
              "        [230],\n",
              "        [ 67]],\n",
              "\n",
              "       [[ 48],\n",
              "        [203],\n",
              "        [183],\n",
              "        [194],\n",
              "        [213],\n",
              "        [197],\n",
              "        [185],\n",
              "        [190],\n",
              "        [194],\n",
              "        [192],\n",
              "        [202],\n",
              "        [214],\n",
              "        [219],\n",
              "        [221],\n",
              "        [220],\n",
              "        [236],\n",
              "        [225],\n",
              "        [216],\n",
              "        [199],\n",
              "        [206],\n",
              "        [186],\n",
              "        [181],\n",
              "        [177],\n",
              "        [172],\n",
              "        [181],\n",
              "        [205],\n",
              "        [206],\n",
              "        [115]],\n",
              "\n",
              "       [[  0],\n",
              "        [122],\n",
              "        [219],\n",
              "        [193],\n",
              "        [179],\n",
              "        [171],\n",
              "        [183],\n",
              "        [196],\n",
              "        [204],\n",
              "        [210],\n",
              "        [213],\n",
              "        [207],\n",
              "        [211],\n",
              "        [210],\n",
              "        [200],\n",
              "        [196],\n",
              "        [194],\n",
              "        [191],\n",
              "        [195],\n",
              "        [191],\n",
              "        [198],\n",
              "        [192],\n",
              "        [176],\n",
              "        [156],\n",
              "        [167],\n",
              "        [177],\n",
              "        [210],\n",
              "        [ 92]],\n",
              "\n",
              "       [[  0],\n",
              "        [  0],\n",
              "        [ 74],\n",
              "        [189],\n",
              "        [212],\n",
              "        [191],\n",
              "        [175],\n",
              "        [172],\n",
              "        [175],\n",
              "        [181],\n",
              "        [185],\n",
              "        [188],\n",
              "        [189],\n",
              "        [188],\n",
              "        [193],\n",
              "        [198],\n",
              "        [204],\n",
              "        [209],\n",
              "        [210],\n",
              "        [210],\n",
              "        [211],\n",
              "        [188],\n",
              "        [188],\n",
              "        [194],\n",
              "        [192],\n",
              "        [216],\n",
              "        [170],\n",
              "        [  0]],\n",
              "\n",
              "       [[  2],\n",
              "        [  0],\n",
              "        [  0],\n",
              "        [  0],\n",
              "        [ 66],\n",
              "        [200],\n",
              "        [222],\n",
              "        [237],\n",
              "        [239],\n",
              "        [242],\n",
              "        [246],\n",
              "        [243],\n",
              "        [244],\n",
              "        [221],\n",
              "        [220],\n",
              "        [193],\n",
              "        [191],\n",
              "        [179],\n",
              "        [182],\n",
              "        [182],\n",
              "        [181],\n",
              "        [176],\n",
              "        [166],\n",
              "        [168],\n",
              "        [ 99],\n",
              "        [ 58],\n",
              "        [  0],\n",
              "        [  0]],\n",
              "\n",
              "       [[  0],\n",
              "        [  0],\n",
              "        [  0],\n",
              "        [  0],\n",
              "        [  0],\n",
              "        [  0],\n",
              "        [  0],\n",
              "        [ 40],\n",
              "        [ 61],\n",
              "        [ 44],\n",
              "        [ 72],\n",
              "        [ 41],\n",
              "        [ 35],\n",
              "        [  0],\n",
              "        [  0],\n",
              "        [  0],\n",
              "        [  0],\n",
              "        [  0],\n",
              "        [  0],\n",
              "        [  0],\n",
              "        [  0],\n",
              "        [  0],\n",
              "        [  0],\n",
              "        [  0],\n",
              "        [  0],\n",
              "        [  0],\n",
              "        [  0],\n",
              "        [  0]],\n",
              "\n",
              "       [[  0],\n",
              "        [  0],\n",
              "        [  0],\n",
              "        [  0],\n",
              "        [  0],\n",
              "        [  0],\n",
              "        [  0],\n",
              "        [  0],\n",
              "        [  0],\n",
              "        [  0],\n",
              "        [  0],\n",
              "        [  0],\n",
              "        [  0],\n",
              "        [  0],\n",
              "        [  0],\n",
              "        [  0],\n",
              "        [  0],\n",
              "        [  0],\n",
              "        [  0],\n",
              "        [  0],\n",
              "        [  0],\n",
              "        [  0],\n",
              "        [  0],\n",
              "        [  0],\n",
              "        [  0],\n",
              "        [  0],\n",
              "        [  0],\n",
              "        [  0]],\n",
              "\n",
              "       [[  0],\n",
              "        [  0],\n",
              "        [  0],\n",
              "        [  0],\n",
              "        [  0],\n",
              "        [  0],\n",
              "        [  0],\n",
              "        [  0],\n",
              "        [  0],\n",
              "        [  0],\n",
              "        [  0],\n",
              "        [  0],\n",
              "        [  0],\n",
              "        [  0],\n",
              "        [  0],\n",
              "        [  0],\n",
              "        [  0],\n",
              "        [  0],\n",
              "        [  0],\n",
              "        [  0],\n",
              "        [  0],\n",
              "        [  0],\n",
              "        [  0],\n",
              "        [  0],\n",
              "        [  0],\n",
              "        [  0],\n",
              "        [  0],\n",
              "        [  0]]], dtype=uint8)"
            ]
          },
          "metadata": {
            "tags": []
          },
          "execution_count": 8
        }
      ]
    },
    {
      "cell_type": "markdown",
      "metadata": {
        "id": "-fgq-DPpDY0y",
        "colab_type": "text"
      },
      "source": [
        "## What is the min/max for this image?"
      ]
    },
    {
      "cell_type": "code",
      "metadata": {
        "id": "Zk9fC6JDDUp3",
        "colab_type": "code",
        "outputId": "cbd5f030-692e-4ded-a39d-ffb0e374e2b2",
        "colab": {
          "base_uri": "https://localhost:8080/",
          "height": 34
        }
      },
      "source": [
        "np.max(X_train[0])"
      ],
      "execution_count": 0,
      "outputs": [
        {
          "output_type": "execute_result",
          "data": {
            "text/plain": [
              "1.0"
            ]
          },
          "metadata": {
            "tags": []
          },
          "execution_count": 20
        }
      ]
    },
    {
      "cell_type": "code",
      "metadata": {
        "id": "ciTWCBVjDXL3",
        "colab_type": "code",
        "outputId": "78a425f5-e095-44b7-8a9f-47e8eabdfaf0",
        "colab": {
          "base_uri": "https://localhost:8080/",
          "height": 34
        }
      },
      "source": [
        "np.min(X_train[0])"
      ],
      "execution_count": 0,
      "outputs": [
        {
          "output_type": "execute_result",
          "data": {
            "text/plain": [
              "0.0"
            ]
          },
          "metadata": {
            "tags": []
          },
          "execution_count": 21
        }
      ]
    },
    {
      "cell_type": "markdown",
      "metadata": {
        "id": "BykRwF2UmP8b",
        "colab_type": "text"
      },
      "source": [
        "## Normalise\n",
        "\n",
        "We need to normalise the data since the values range from 0 to 255. Training NNs on data ranging between [0,1] can be easier.\n",
        "\n",
        "Need to normalise all features, including training, validation and testing. We also need to apply the same normalisation to any new data."
      ]
    },
    {
      "cell_type": "code",
      "metadata": {
        "id": "FH2lcHF3mP8c",
        "colab_type": "code",
        "colab": {}
      },
      "source": [
        "X_train = X_train / 255\n",
        "X_test = X_test / 255"
      ],
      "execution_count": 0,
      "outputs": []
    },
    {
      "cell_type": "markdown",
      "metadata": {
        "id": "KXCZiTPZDB3d",
        "colab_type": "text"
      },
      "source": [
        "## Take a look at a single image (after normalisation)"
      ]
    },
    {
      "cell_type": "code",
      "metadata": {
        "id": "nRTTJ4kDDB_s",
        "colab_type": "code",
        "outputId": "1fc5bd40-a122-4448-bb01-6be3adecf128",
        "colab": {
          "base_uri": "https://localhost:8080/",
          "height": 1000
        }
      },
      "source": [
        "X_train[0]"
      ],
      "execution_count": 0,
      "outputs": [
        {
          "output_type": "execute_result",
          "data": {
            "text/plain": [
              "array([[[0.        ],\n",
              "        [0.        ],\n",
              "        [0.        ],\n",
              "        [0.        ],\n",
              "        [0.        ],\n",
              "        [0.        ],\n",
              "        [0.        ],\n",
              "        [0.        ],\n",
              "        [0.        ],\n",
              "        [0.        ],\n",
              "        [0.        ],\n",
              "        [0.        ],\n",
              "        [0.        ],\n",
              "        [0.        ],\n",
              "        [0.        ],\n",
              "        [0.        ],\n",
              "        [0.        ],\n",
              "        [0.        ],\n",
              "        [0.        ],\n",
              "        [0.        ],\n",
              "        [0.        ],\n",
              "        [0.        ],\n",
              "        [0.        ],\n",
              "        [0.        ],\n",
              "        [0.        ],\n",
              "        [0.        ],\n",
              "        [0.        ],\n",
              "        [0.        ]],\n",
              "\n",
              "       [[0.        ],\n",
              "        [0.        ],\n",
              "        [0.        ],\n",
              "        [0.        ],\n",
              "        [0.        ],\n",
              "        [0.        ],\n",
              "        [0.        ],\n",
              "        [0.        ],\n",
              "        [0.        ],\n",
              "        [0.        ],\n",
              "        [0.        ],\n",
              "        [0.        ],\n",
              "        [0.        ],\n",
              "        [0.        ],\n",
              "        [0.        ],\n",
              "        [0.        ],\n",
              "        [0.        ],\n",
              "        [0.        ],\n",
              "        [0.        ],\n",
              "        [0.        ],\n",
              "        [0.        ],\n",
              "        [0.        ],\n",
              "        [0.        ],\n",
              "        [0.        ],\n",
              "        [0.        ],\n",
              "        [0.        ],\n",
              "        [0.        ],\n",
              "        [0.        ]],\n",
              "\n",
              "       [[0.        ],\n",
              "        [0.        ],\n",
              "        [0.        ],\n",
              "        [0.        ],\n",
              "        [0.        ],\n",
              "        [0.        ],\n",
              "        [0.        ],\n",
              "        [0.        ],\n",
              "        [0.        ],\n",
              "        [0.        ],\n",
              "        [0.        ],\n",
              "        [0.        ],\n",
              "        [0.        ],\n",
              "        [0.        ],\n",
              "        [0.        ],\n",
              "        [0.        ],\n",
              "        [0.        ],\n",
              "        [0.        ],\n",
              "        [0.        ],\n",
              "        [0.        ],\n",
              "        [0.        ],\n",
              "        [0.        ],\n",
              "        [0.        ],\n",
              "        [0.        ],\n",
              "        [0.        ],\n",
              "        [0.        ],\n",
              "        [0.        ],\n",
              "        [0.        ]],\n",
              "\n",
              "       [[0.        ],\n",
              "        [0.        ],\n",
              "        [0.        ],\n",
              "        [0.        ],\n",
              "        [0.        ],\n",
              "        [0.        ],\n",
              "        [0.        ],\n",
              "        [0.        ],\n",
              "        [0.        ],\n",
              "        [0.        ],\n",
              "        [0.        ],\n",
              "        [0.        ],\n",
              "        [0.00392157],\n",
              "        [0.        ],\n",
              "        [0.        ],\n",
              "        [0.05098039],\n",
              "        [0.28627451],\n",
              "        [0.        ],\n",
              "        [0.        ],\n",
              "        [0.00392157],\n",
              "        [0.01568627],\n",
              "        [0.        ],\n",
              "        [0.        ],\n",
              "        [0.        ],\n",
              "        [0.        ],\n",
              "        [0.00392157],\n",
              "        [0.00392157],\n",
              "        [0.        ]],\n",
              "\n",
              "       [[0.        ],\n",
              "        [0.        ],\n",
              "        [0.        ],\n",
              "        [0.        ],\n",
              "        [0.        ],\n",
              "        [0.        ],\n",
              "        [0.        ],\n",
              "        [0.        ],\n",
              "        [0.        ],\n",
              "        [0.        ],\n",
              "        [0.        ],\n",
              "        [0.        ],\n",
              "        [0.01176471],\n",
              "        [0.        ],\n",
              "        [0.14117647],\n",
              "        [0.53333333],\n",
              "        [0.49803922],\n",
              "        [0.24313725],\n",
              "        [0.21176471],\n",
              "        [0.        ],\n",
              "        [0.        ],\n",
              "        [0.        ],\n",
              "        [0.00392157],\n",
              "        [0.01176471],\n",
              "        [0.01568627],\n",
              "        [0.        ],\n",
              "        [0.        ],\n",
              "        [0.01176471]],\n",
              "\n",
              "       [[0.        ],\n",
              "        [0.        ],\n",
              "        [0.        ],\n",
              "        [0.        ],\n",
              "        [0.        ],\n",
              "        [0.        ],\n",
              "        [0.        ],\n",
              "        [0.        ],\n",
              "        [0.        ],\n",
              "        [0.        ],\n",
              "        [0.        ],\n",
              "        [0.        ],\n",
              "        [0.02352941],\n",
              "        [0.        ],\n",
              "        [0.4       ],\n",
              "        [0.8       ],\n",
              "        [0.69019608],\n",
              "        [0.5254902 ],\n",
              "        [0.56470588],\n",
              "        [0.48235294],\n",
              "        [0.09019608],\n",
              "        [0.        ],\n",
              "        [0.        ],\n",
              "        [0.        ],\n",
              "        [0.        ],\n",
              "        [0.04705882],\n",
              "        [0.03921569],\n",
              "        [0.        ]],\n",
              "\n",
              "       [[0.        ],\n",
              "        [0.        ],\n",
              "        [0.        ],\n",
              "        [0.        ],\n",
              "        [0.        ],\n",
              "        [0.        ],\n",
              "        [0.        ],\n",
              "        [0.        ],\n",
              "        [0.        ],\n",
              "        [0.        ],\n",
              "        [0.        ],\n",
              "        [0.        ],\n",
              "        [0.        ],\n",
              "        [0.        ],\n",
              "        [0.60784314],\n",
              "        [0.9254902 ],\n",
              "        [0.81176471],\n",
              "        [0.69803922],\n",
              "        [0.41960784],\n",
              "        [0.61176471],\n",
              "        [0.63137255],\n",
              "        [0.42745098],\n",
              "        [0.25098039],\n",
              "        [0.09019608],\n",
              "        [0.30196078],\n",
              "        [0.50980392],\n",
              "        [0.28235294],\n",
              "        [0.05882353]],\n",
              "\n",
              "       [[0.        ],\n",
              "        [0.        ],\n",
              "        [0.        ],\n",
              "        [0.        ],\n",
              "        [0.        ],\n",
              "        [0.        ],\n",
              "        [0.        ],\n",
              "        [0.        ],\n",
              "        [0.        ],\n",
              "        [0.        ],\n",
              "        [0.        ],\n",
              "        [0.00392157],\n",
              "        [0.        ],\n",
              "        [0.27058824],\n",
              "        [0.81176471],\n",
              "        [0.8745098 ],\n",
              "        [0.85490196],\n",
              "        [0.84705882],\n",
              "        [0.84705882],\n",
              "        [0.63921569],\n",
              "        [0.49803922],\n",
              "        [0.4745098 ],\n",
              "        [0.47843137],\n",
              "        [0.57254902],\n",
              "        [0.55294118],\n",
              "        [0.34509804],\n",
              "        [0.6745098 ],\n",
              "        [0.25882353]],\n",
              "\n",
              "       [[0.        ],\n",
              "        [0.        ],\n",
              "        [0.        ],\n",
              "        [0.        ],\n",
              "        [0.        ],\n",
              "        [0.        ],\n",
              "        [0.        ],\n",
              "        [0.        ],\n",
              "        [0.        ],\n",
              "        [0.00392157],\n",
              "        [0.00392157],\n",
              "        [0.00392157],\n",
              "        [0.        ],\n",
              "        [0.78431373],\n",
              "        [0.90980392],\n",
              "        [0.90980392],\n",
              "        [0.91372549],\n",
              "        [0.89803922],\n",
              "        [0.8745098 ],\n",
              "        [0.8745098 ],\n",
              "        [0.84313725],\n",
              "        [0.83529412],\n",
              "        [0.64313725],\n",
              "        [0.49803922],\n",
              "        [0.48235294],\n",
              "        [0.76862745],\n",
              "        [0.89803922],\n",
              "        [0.        ]],\n",
              "\n",
              "       [[0.        ],\n",
              "        [0.        ],\n",
              "        [0.        ],\n",
              "        [0.        ],\n",
              "        [0.        ],\n",
              "        [0.        ],\n",
              "        [0.        ],\n",
              "        [0.        ],\n",
              "        [0.        ],\n",
              "        [0.        ],\n",
              "        [0.        ],\n",
              "        [0.        ],\n",
              "        [0.        ],\n",
              "        [0.71764706],\n",
              "        [0.88235294],\n",
              "        [0.84705882],\n",
              "        [0.8745098 ],\n",
              "        [0.89411765],\n",
              "        [0.92156863],\n",
              "        [0.89019608],\n",
              "        [0.87843137],\n",
              "        [0.87058824],\n",
              "        [0.87843137],\n",
              "        [0.86666667],\n",
              "        [0.8745098 ],\n",
              "        [0.96078431],\n",
              "        [0.67843137],\n",
              "        [0.        ]],\n",
              "\n",
              "       [[0.        ],\n",
              "        [0.        ],\n",
              "        [0.        ],\n",
              "        [0.        ],\n",
              "        [0.        ],\n",
              "        [0.        ],\n",
              "        [0.        ],\n",
              "        [0.        ],\n",
              "        [0.        ],\n",
              "        [0.        ],\n",
              "        [0.        ],\n",
              "        [0.        ],\n",
              "        [0.        ],\n",
              "        [0.75686275],\n",
              "        [0.89411765],\n",
              "        [0.85490196],\n",
              "        [0.83529412],\n",
              "        [0.77647059],\n",
              "        [0.70588235],\n",
              "        [0.83137255],\n",
              "        [0.82352941],\n",
              "        [0.82745098],\n",
              "        [0.83529412],\n",
              "        [0.8745098 ],\n",
              "        [0.8627451 ],\n",
              "        [0.95294118],\n",
              "        [0.79215686],\n",
              "        [0.        ]],\n",
              "\n",
              "       [[0.        ],\n",
              "        [0.        ],\n",
              "        [0.        ],\n",
              "        [0.        ],\n",
              "        [0.        ],\n",
              "        [0.        ],\n",
              "        [0.        ],\n",
              "        [0.        ],\n",
              "        [0.        ],\n",
              "        [0.00392157],\n",
              "        [0.01176471],\n",
              "        [0.        ],\n",
              "        [0.04705882],\n",
              "        [0.85882353],\n",
              "        [0.8627451 ],\n",
              "        [0.83137255],\n",
              "        [0.85490196],\n",
              "        [0.75294118],\n",
              "        [0.6627451 ],\n",
              "        [0.89019608],\n",
              "        [0.81568627],\n",
              "        [0.85490196],\n",
              "        [0.87843137],\n",
              "        [0.83137255],\n",
              "        [0.88627451],\n",
              "        [0.77254902],\n",
              "        [0.81960784],\n",
              "        [0.20392157]],\n",
              "\n",
              "       [[0.        ],\n",
              "        [0.        ],\n",
              "        [0.        ],\n",
              "        [0.        ],\n",
              "        [0.        ],\n",
              "        [0.        ],\n",
              "        [0.        ],\n",
              "        [0.        ],\n",
              "        [0.        ],\n",
              "        [0.        ],\n",
              "        [0.02352941],\n",
              "        [0.        ],\n",
              "        [0.38823529],\n",
              "        [0.95686275],\n",
              "        [0.87058824],\n",
              "        [0.8627451 ],\n",
              "        [0.85490196],\n",
              "        [0.79607843],\n",
              "        [0.77647059],\n",
              "        [0.86666667],\n",
              "        [0.84313725],\n",
              "        [0.83529412],\n",
              "        [0.87058824],\n",
              "        [0.8627451 ],\n",
              "        [0.96078431],\n",
              "        [0.46666667],\n",
              "        [0.65490196],\n",
              "        [0.21960784]],\n",
              "\n",
              "       [[0.        ],\n",
              "        [0.        ],\n",
              "        [0.        ],\n",
              "        [0.        ],\n",
              "        [0.        ],\n",
              "        [0.        ],\n",
              "        [0.        ],\n",
              "        [0.        ],\n",
              "        [0.        ],\n",
              "        [0.01568627],\n",
              "        [0.        ],\n",
              "        [0.        ],\n",
              "        [0.21568627],\n",
              "        [0.9254902 ],\n",
              "        [0.89411765],\n",
              "        [0.90196078],\n",
              "        [0.89411765],\n",
              "        [0.94117647],\n",
              "        [0.90980392],\n",
              "        [0.83529412],\n",
              "        [0.85490196],\n",
              "        [0.8745098 ],\n",
              "        [0.91764706],\n",
              "        [0.85098039],\n",
              "        [0.85098039],\n",
              "        [0.81960784],\n",
              "        [0.36078431],\n",
              "        [0.        ]],\n",
              "\n",
              "       [[0.        ],\n",
              "        [0.        ],\n",
              "        [0.00392157],\n",
              "        [0.01568627],\n",
              "        [0.02352941],\n",
              "        [0.02745098],\n",
              "        [0.00784314],\n",
              "        [0.        ],\n",
              "        [0.        ],\n",
              "        [0.        ],\n",
              "        [0.        ],\n",
              "        [0.        ],\n",
              "        [0.92941176],\n",
              "        [0.88627451],\n",
              "        [0.85098039],\n",
              "        [0.8745098 ],\n",
              "        [0.87058824],\n",
              "        [0.85882353],\n",
              "        [0.87058824],\n",
              "        [0.86666667],\n",
              "        [0.84705882],\n",
              "        [0.8745098 ],\n",
              "        [0.89803922],\n",
              "        [0.84313725],\n",
              "        [0.85490196],\n",
              "        [1.        ],\n",
              "        [0.30196078],\n",
              "        [0.        ]],\n",
              "\n",
              "       [[0.        ],\n",
              "        [0.01176471],\n",
              "        [0.        ],\n",
              "        [0.        ],\n",
              "        [0.        ],\n",
              "        [0.        ],\n",
              "        [0.        ],\n",
              "        [0.        ],\n",
              "        [0.        ],\n",
              "        [0.24313725],\n",
              "        [0.56862745],\n",
              "        [0.8       ],\n",
              "        [0.89411765],\n",
              "        [0.81176471],\n",
              "        [0.83529412],\n",
              "        [0.86666667],\n",
              "        [0.85490196],\n",
              "        [0.81568627],\n",
              "        [0.82745098],\n",
              "        [0.85490196],\n",
              "        [0.87843137],\n",
              "        [0.8745098 ],\n",
              "        [0.85882353],\n",
              "        [0.84313725],\n",
              "        [0.87843137],\n",
              "        [0.95686275],\n",
              "        [0.62352941],\n",
              "        [0.        ]],\n",
              "\n",
              "       [[0.        ],\n",
              "        [0.        ],\n",
              "        [0.        ],\n",
              "        [0.        ],\n",
              "        [0.07058824],\n",
              "        [0.17254902],\n",
              "        [0.32156863],\n",
              "        [0.41960784],\n",
              "        [0.74117647],\n",
              "        [0.89411765],\n",
              "        [0.8627451 ],\n",
              "        [0.87058824],\n",
              "        [0.85098039],\n",
              "        [0.88627451],\n",
              "        [0.78431373],\n",
              "        [0.80392157],\n",
              "        [0.82745098],\n",
              "        [0.90196078],\n",
              "        [0.87843137],\n",
              "        [0.91764706],\n",
              "        [0.69019608],\n",
              "        [0.7372549 ],\n",
              "        [0.98039216],\n",
              "        [0.97254902],\n",
              "        [0.91372549],\n",
              "        [0.93333333],\n",
              "        [0.84313725],\n",
              "        [0.        ]],\n",
              "\n",
              "       [[0.        ],\n",
              "        [0.22352941],\n",
              "        [0.73333333],\n",
              "        [0.81568627],\n",
              "        [0.87843137],\n",
              "        [0.86666667],\n",
              "        [0.87843137],\n",
              "        [0.81568627],\n",
              "        [0.8       ],\n",
              "        [0.83921569],\n",
              "        [0.81568627],\n",
              "        [0.81960784],\n",
              "        [0.78431373],\n",
              "        [0.62352941],\n",
              "        [0.96078431],\n",
              "        [0.75686275],\n",
              "        [0.80784314],\n",
              "        [0.8745098 ],\n",
              "        [1.        ],\n",
              "        [1.        ],\n",
              "        [0.86666667],\n",
              "        [0.91764706],\n",
              "        [0.86666667],\n",
              "        [0.82745098],\n",
              "        [0.8627451 ],\n",
              "        [0.90980392],\n",
              "        [0.96470588],\n",
              "        [0.        ]],\n",
              "\n",
              "       [[0.01176471],\n",
              "        [0.79215686],\n",
              "        [0.89411765],\n",
              "        [0.87843137],\n",
              "        [0.86666667],\n",
              "        [0.82745098],\n",
              "        [0.82745098],\n",
              "        [0.83921569],\n",
              "        [0.80392157],\n",
              "        [0.80392157],\n",
              "        [0.80392157],\n",
              "        [0.8627451 ],\n",
              "        [0.94117647],\n",
              "        [0.31372549],\n",
              "        [0.58823529],\n",
              "        [1.        ],\n",
              "        [0.89803922],\n",
              "        [0.86666667],\n",
              "        [0.7372549 ],\n",
              "        [0.60392157],\n",
              "        [0.74901961],\n",
              "        [0.82352941],\n",
              "        [0.8       ],\n",
              "        [0.81960784],\n",
              "        [0.87058824],\n",
              "        [0.89411765],\n",
              "        [0.88235294],\n",
              "        [0.        ]],\n",
              "\n",
              "       [[0.38431373],\n",
              "        [0.91372549],\n",
              "        [0.77647059],\n",
              "        [0.82352941],\n",
              "        [0.87058824],\n",
              "        [0.89803922],\n",
              "        [0.89803922],\n",
              "        [0.91764706],\n",
              "        [0.97647059],\n",
              "        [0.8627451 ],\n",
              "        [0.76078431],\n",
              "        [0.84313725],\n",
              "        [0.85098039],\n",
              "        [0.94509804],\n",
              "        [0.25490196],\n",
              "        [0.28627451],\n",
              "        [0.41568627],\n",
              "        [0.45882353],\n",
              "        [0.65882353],\n",
              "        [0.85882353],\n",
              "        [0.86666667],\n",
              "        [0.84313725],\n",
              "        [0.85098039],\n",
              "        [0.8745098 ],\n",
              "        [0.8745098 ],\n",
              "        [0.87843137],\n",
              "        [0.89803922],\n",
              "        [0.11372549]],\n",
              "\n",
              "       [[0.29411765],\n",
              "        [0.8       ],\n",
              "        [0.83137255],\n",
              "        [0.8       ],\n",
              "        [0.75686275],\n",
              "        [0.80392157],\n",
              "        [0.82745098],\n",
              "        [0.88235294],\n",
              "        [0.84705882],\n",
              "        [0.7254902 ],\n",
              "        [0.77254902],\n",
              "        [0.80784314],\n",
              "        [0.77647059],\n",
              "        [0.83529412],\n",
              "        [0.94117647],\n",
              "        [0.76470588],\n",
              "        [0.89019608],\n",
              "        [0.96078431],\n",
              "        [0.9372549 ],\n",
              "        [0.8745098 ],\n",
              "        [0.85490196],\n",
              "        [0.83137255],\n",
              "        [0.81960784],\n",
              "        [0.87058824],\n",
              "        [0.8627451 ],\n",
              "        [0.86666667],\n",
              "        [0.90196078],\n",
              "        [0.2627451 ]],\n",
              "\n",
              "       [[0.18823529],\n",
              "        [0.79607843],\n",
              "        [0.71764706],\n",
              "        [0.76078431],\n",
              "        [0.83529412],\n",
              "        [0.77254902],\n",
              "        [0.7254902 ],\n",
              "        [0.74509804],\n",
              "        [0.76078431],\n",
              "        [0.75294118],\n",
              "        [0.79215686],\n",
              "        [0.83921569],\n",
              "        [0.85882353],\n",
              "        [0.86666667],\n",
              "        [0.8627451 ],\n",
              "        [0.9254902 ],\n",
              "        [0.88235294],\n",
              "        [0.84705882],\n",
              "        [0.78039216],\n",
              "        [0.80784314],\n",
              "        [0.72941176],\n",
              "        [0.70980392],\n",
              "        [0.69411765],\n",
              "        [0.6745098 ],\n",
              "        [0.70980392],\n",
              "        [0.80392157],\n",
              "        [0.80784314],\n",
              "        [0.45098039]],\n",
              "\n",
              "       [[0.        ],\n",
              "        [0.47843137],\n",
              "        [0.85882353],\n",
              "        [0.75686275],\n",
              "        [0.70196078],\n",
              "        [0.67058824],\n",
              "        [0.71764706],\n",
              "        [0.76862745],\n",
              "        [0.8       ],\n",
              "        [0.82352941],\n",
              "        [0.83529412],\n",
              "        [0.81176471],\n",
              "        [0.82745098],\n",
              "        [0.82352941],\n",
              "        [0.78431373],\n",
              "        [0.76862745],\n",
              "        [0.76078431],\n",
              "        [0.74901961],\n",
              "        [0.76470588],\n",
              "        [0.74901961],\n",
              "        [0.77647059],\n",
              "        [0.75294118],\n",
              "        [0.69019608],\n",
              "        [0.61176471],\n",
              "        [0.65490196],\n",
              "        [0.69411765],\n",
              "        [0.82352941],\n",
              "        [0.36078431]],\n",
              "\n",
              "       [[0.        ],\n",
              "        [0.        ],\n",
              "        [0.29019608],\n",
              "        [0.74117647],\n",
              "        [0.83137255],\n",
              "        [0.74901961],\n",
              "        [0.68627451],\n",
              "        [0.6745098 ],\n",
              "        [0.68627451],\n",
              "        [0.70980392],\n",
              "        [0.7254902 ],\n",
              "        [0.7372549 ],\n",
              "        [0.74117647],\n",
              "        [0.7372549 ],\n",
              "        [0.75686275],\n",
              "        [0.77647059],\n",
              "        [0.8       ],\n",
              "        [0.81960784],\n",
              "        [0.82352941],\n",
              "        [0.82352941],\n",
              "        [0.82745098],\n",
              "        [0.7372549 ],\n",
              "        [0.7372549 ],\n",
              "        [0.76078431],\n",
              "        [0.75294118],\n",
              "        [0.84705882],\n",
              "        [0.66666667],\n",
              "        [0.        ]],\n",
              "\n",
              "       [[0.00784314],\n",
              "        [0.        ],\n",
              "        [0.        ],\n",
              "        [0.        ],\n",
              "        [0.25882353],\n",
              "        [0.78431373],\n",
              "        [0.87058824],\n",
              "        [0.92941176],\n",
              "        [0.9372549 ],\n",
              "        [0.94901961],\n",
              "        [0.96470588],\n",
              "        [0.95294118],\n",
              "        [0.95686275],\n",
              "        [0.86666667],\n",
              "        [0.8627451 ],\n",
              "        [0.75686275],\n",
              "        [0.74901961],\n",
              "        [0.70196078],\n",
              "        [0.71372549],\n",
              "        [0.71372549],\n",
              "        [0.70980392],\n",
              "        [0.69019608],\n",
              "        [0.65098039],\n",
              "        [0.65882353],\n",
              "        [0.38823529],\n",
              "        [0.22745098],\n",
              "        [0.        ],\n",
              "        [0.        ]],\n",
              "\n",
              "       [[0.        ],\n",
              "        [0.        ],\n",
              "        [0.        ],\n",
              "        [0.        ],\n",
              "        [0.        ],\n",
              "        [0.        ],\n",
              "        [0.        ],\n",
              "        [0.15686275],\n",
              "        [0.23921569],\n",
              "        [0.17254902],\n",
              "        [0.28235294],\n",
              "        [0.16078431],\n",
              "        [0.1372549 ],\n",
              "        [0.        ],\n",
              "        [0.        ],\n",
              "        [0.        ],\n",
              "        [0.        ],\n",
              "        [0.        ],\n",
              "        [0.        ],\n",
              "        [0.        ],\n",
              "        [0.        ],\n",
              "        [0.        ],\n",
              "        [0.        ],\n",
              "        [0.        ],\n",
              "        [0.        ],\n",
              "        [0.        ],\n",
              "        [0.        ],\n",
              "        [0.        ]],\n",
              "\n",
              "       [[0.        ],\n",
              "        [0.        ],\n",
              "        [0.        ],\n",
              "        [0.        ],\n",
              "        [0.        ],\n",
              "        [0.        ],\n",
              "        [0.        ],\n",
              "        [0.        ],\n",
              "        [0.        ],\n",
              "        [0.        ],\n",
              "        [0.        ],\n",
              "        [0.        ],\n",
              "        [0.        ],\n",
              "        [0.        ],\n",
              "        [0.        ],\n",
              "        [0.        ],\n",
              "        [0.        ],\n",
              "        [0.        ],\n",
              "        [0.        ],\n",
              "        [0.        ],\n",
              "        [0.        ],\n",
              "        [0.        ],\n",
              "        [0.        ],\n",
              "        [0.        ],\n",
              "        [0.        ],\n",
              "        [0.        ],\n",
              "        [0.        ],\n",
              "        [0.        ]],\n",
              "\n",
              "       [[0.        ],\n",
              "        [0.        ],\n",
              "        [0.        ],\n",
              "        [0.        ],\n",
              "        [0.        ],\n",
              "        [0.        ],\n",
              "        [0.        ],\n",
              "        [0.        ],\n",
              "        [0.        ],\n",
              "        [0.        ],\n",
              "        [0.        ],\n",
              "        [0.        ],\n",
              "        [0.        ],\n",
              "        [0.        ],\n",
              "        [0.        ],\n",
              "        [0.        ],\n",
              "        [0.        ],\n",
              "        [0.        ],\n",
              "        [0.        ],\n",
              "        [0.        ],\n",
              "        [0.        ],\n",
              "        [0.        ],\n",
              "        [0.        ],\n",
              "        [0.        ],\n",
              "        [0.        ],\n",
              "        [0.        ],\n",
              "        [0.        ],\n",
              "        [0.        ]]])"
            ]
          },
          "metadata": {
            "tags": []
          },
          "execution_count": 19
        }
      ]
    },
    {
      "cell_type": "markdown",
      "metadata": {
        "colab_type": "text",
        "id": "pzew90mNDdoJ"
      },
      "source": [
        "## What is the min/max for this image after normalisation?"
      ]
    },
    {
      "cell_type": "code",
      "metadata": {
        "colab_type": "code",
        "outputId": "cbd5f030-692e-4ded-a39d-ffb0e374e2b2",
        "id": "VzGZPbxvDdoO",
        "colab": {
          "base_uri": "https://localhost:8080/",
          "height": 34
        }
      },
      "source": [
        "np.max(X_train[0])"
      ],
      "execution_count": 0,
      "outputs": [
        {
          "output_type": "execute_result",
          "data": {
            "text/plain": [
              "1.0"
            ]
          },
          "metadata": {
            "tags": []
          },
          "execution_count": 20
        }
      ]
    },
    {
      "cell_type": "code",
      "metadata": {
        "colab_type": "code",
        "outputId": "78a425f5-e095-44b7-8a9f-47e8eabdfaf0",
        "id": "gGkND0LVDdoS",
        "colab": {
          "base_uri": "https://localhost:8080/",
          "height": 34
        }
      },
      "source": [
        "np.min(X_train[0])"
      ],
      "execution_count": 0,
      "outputs": [
        {
          "output_type": "execute_result",
          "data": {
            "text/plain": [
              "0.0"
            ]
          },
          "metadata": {
            "tags": []
          },
          "execution_count": 21
        }
      ]
    },
    {
      "cell_type": "markdown",
      "metadata": {
        "id": "kj0QhPSsmP8e",
        "colab_type": "text"
      },
      "source": [
        "## One hot encoding"
      ]
    },
    {
      "cell_type": "markdown",
      "metadata": {
        "id": "sGRXrRTYmP8g",
        "colab_type": "text"
      },
      "source": [
        "## Before"
      ]
    },
    {
      "cell_type": "code",
      "metadata": {
        "id": "wrKyI7DamP8g",
        "colab_type": "code",
        "outputId": "20dfad5c-d522-41a9-a256-2b989fb7ed86",
        "colab": {
          "base_uri": "https://localhost:8080/",
          "height": 34
        }
      },
      "source": [
        "Y_test[0]"
      ],
      "execution_count": 0,
      "outputs": [
        {
          "output_type": "execute_result",
          "data": {
            "text/plain": [
              "9"
            ]
          },
          "metadata": {
            "tags": []
          },
          "execution_count": 22
        }
      ]
    },
    {
      "cell_type": "markdown",
      "metadata": {
        "id": "UfClFp-6K7P6",
        "colab_type": "text"
      },
      "source": [
        "## Convert from categorical labels to one-hot encoded vectors\n",
        "\n",
        "In this case there are 10 classes so we can tell the function to convert into a vector of length 10"
      ]
    },
    {
      "cell_type": "code",
      "metadata": {
        "id": "i3xjsPnVmP8j",
        "colab_type": "code",
        "colab": {}
      },
      "source": [
        "Y_train = np_utils.to_categorical(Y_train, 10)\n",
        "Y_test = np_utils.to_categorical(Y_test, 10)\n",
        "num_classes = 10"
      ],
      "execution_count": 0,
      "outputs": []
    },
    {
      "cell_type": "markdown",
      "metadata": {
        "id": "92H9U6LkmP8m",
        "colab_type": "text"
      },
      "source": [
        "## After"
      ]
    },
    {
      "cell_type": "code",
      "metadata": {
        "id": "tiiXZrnUmP8n",
        "colab_type": "code",
        "outputId": "47b6c454-087d-48f0-84a2-9e5f2a7f52f5",
        "colab": {
          "base_uri": "https://localhost:8080/",
          "height": 34
        }
      },
      "source": [
        "Y_test[0]"
      ],
      "execution_count": 0,
      "outputs": [
        {
          "output_type": "execute_result",
          "data": {
            "text/plain": [
              "array([0., 0., 0., 0., 0., 0., 0., 0., 0., 1.], dtype=float32)"
            ]
          },
          "metadata": {
            "tags": []
          },
          "execution_count": 24
        }
      ]
    },
    {
      "cell_type": "markdown",
      "metadata": {
        "id": "VungsdeHmP8u",
        "colab_type": "text"
      },
      "source": [
        "## Create a CNN model"
      ]
    },
    {
      "cell_type": "code",
      "metadata": {
        "id": "gozmsPxhmP8v",
        "colab_type": "code",
        "colab": {}
      },
      "source": [
        "def baseline_model():\n",
        "    # create model\n",
        "    model = tf.keras.Sequential()\n",
        "    \n",
        "    model.add(tf.keras.layers.Conv2D(filters=64, kernel_size=2, padding='same', activation='relu', input_shape=(28,28,1))) \n",
        "    \n",
        "    model.add(tf.keras.layers.MaxPooling2D(pool_size=2))\n",
        "    \n",
        "    model.add(tf.keras.layers.Conv2D(filters=32, kernel_size=2, padding='same', activation='relu'))\n",
        "    \n",
        "    model.add(tf.keras.layers.MaxPooling2D(pool_size=2))\n",
        "    \n",
        "    model.add(tf.keras.layers.Flatten())\n",
        "    \n",
        "    model.add(tf.keras.layers.Dense(128, activation='relu'))\n",
        "    \n",
        "    model.add(tf.keras.layers.Dropout(0.5))\n",
        "    \n",
        "    model.add(tf.keras.layers.Dense(10, activation='softmax'))\n",
        "    \n",
        "    # Compile the model\n",
        "    model.compile(loss='categorical_crossentropy',\n",
        "             optimizer='adam',\n",
        "             metrics=['accuracy'])\n",
        "    return model"
      ],
      "execution_count": 0,
      "outputs": []
    },
    {
      "cell_type": "code",
      "metadata": {
        "id": "Q03EcUrxmP8x",
        "colab_type": "code",
        "outputId": "3795d81a-80bc-4b1b-e3a9-8161a6c8e84c",
        "colab": {
          "base_uri": "https://localhost:8080/",
          "height": 88
        }
      },
      "source": [
        "model = baseline_model()"
      ],
      "execution_count": 0,
      "outputs": [
        {
          "output_type": "stream",
          "text": [
            "WARNING:tensorflow:From /usr/local/lib/python3.6/dist-packages/tensorflow_core/python/ops/resource_variable_ops.py:1630: calling BaseResourceVariable.__init__ (from tensorflow.python.ops.resource_variable_ops) with constraint is deprecated and will be removed in a future version.\n",
            "Instructions for updating:\n",
            "If using Keras pass *_constraint arguments to layers.\n"
          ],
          "name": "stdout"
        }
      ]
    },
    {
      "cell_type": "markdown",
      "metadata": {
        "id": "bUN6K31smP80",
        "colab_type": "text"
      },
      "source": [
        "## Determine the number of trainable parameters"
      ]
    },
    {
      "cell_type": "code",
      "metadata": {
        "id": "_DxDanOHmP80",
        "colab_type": "code",
        "outputId": "f499a7eb-f858-4377-fca5-0d1b48d73262",
        "colab": {
          "base_uri": "https://localhost:8080/",
          "height": 425
        }
      },
      "source": [
        "model.summary()"
      ],
      "execution_count": 0,
      "outputs": [
        {
          "output_type": "stream",
          "text": [
            "Model: \"sequential\"\n",
            "_________________________________________________________________\n",
            "Layer (type)                 Output Shape              Param #   \n",
            "=================================================================\n",
            "conv2d (Conv2D)              (None, 28, 28, 64)        320       \n",
            "_________________________________________________________________\n",
            "max_pooling2d (MaxPooling2D) (None, 14, 14, 64)        0         \n",
            "_________________________________________________________________\n",
            "conv2d_1 (Conv2D)            (None, 14, 14, 32)        8224      \n",
            "_________________________________________________________________\n",
            "max_pooling2d_1 (MaxPooling2 (None, 7, 7, 32)          0         \n",
            "_________________________________________________________________\n",
            "flatten (Flatten)            (None, 1568)              0         \n",
            "_________________________________________________________________\n",
            "dense (Dense)                (None, 128)               200832    \n",
            "_________________________________________________________________\n",
            "dropout (Dropout)            (None, 128)               0         \n",
            "_________________________________________________________________\n",
            "dense_1 (Dense)              (None, 10)                1290      \n",
            "=================================================================\n",
            "Total params: 210,666\n",
            "Trainable params: 210,666\n",
            "Non-trainable params: 0\n",
            "_________________________________________________________________\n"
          ],
          "name": "stdout"
        }
      ]
    },
    {
      "cell_type": "markdown",
      "metadata": {
        "id": "ifPs0mftmP84",
        "colab_type": "text"
      },
      "source": [
        "## Begin training"
      ]
    },
    {
      "cell_type": "code",
      "metadata": {
        "id": "j8RZc1rhmP84",
        "colab_type": "code",
        "outputId": "3723ee74-9597-4866-d027-521b6c25a3fc",
        "colab": {
          "base_uri": "https://localhost:8080/",
          "height": 221
        }
      },
      "source": [
        "model.fit(X_train, Y_train, validation_data=(X_test, Y_test), epochs=5, batch_size=200, verbose=1)"
      ],
      "execution_count": 0,
      "outputs": [
        {
          "output_type": "stream",
          "text": [
            "Train on 60000 samples, validate on 10000 samples\n",
            "Epoch 1/5\n",
            "60000/60000 [==============================] - 8s 126us/sample - loss: 0.6672 - acc: 0.7624 - val_loss: 0.4170 - val_acc: 0.8455\n",
            "Epoch 2/5\n",
            "60000/60000 [==============================] - 5s 76us/sample - loss: 0.4138 - acc: 0.8533 - val_loss: 0.3522 - val_acc: 0.8729\n",
            "Epoch 3/5\n",
            "60000/60000 [==============================] - 5s 76us/sample - loss: 0.3613 - acc: 0.8708 - val_loss: 0.3215 - val_acc: 0.8837\n",
            "Epoch 4/5\n",
            "60000/60000 [==============================] - 5s 76us/sample - loss: 0.3283 - acc: 0.8828 - val_loss: 0.3041 - val_acc: 0.8876\n",
            "Epoch 5/5\n",
            "60000/60000 [==============================] - 5s 76us/sample - loss: 0.3094 - acc: 0.8893 - val_loss: 0.2910 - val_acc: 0.8950\n"
          ],
          "name": "stdout"
        },
        {
          "output_type": "execute_result",
          "data": {
            "text/plain": [
              "<tensorflow.python.keras.callbacks.History at 0x7f257147f208>"
            ]
          },
          "metadata": {
            "tags": []
          },
          "execution_count": 28
        }
      ]
    },
    {
      "cell_type": "markdown",
      "metadata": {
        "id": "9do3Cl8vmP87",
        "colab_type": "text"
      },
      "source": [
        "## Predict on one example"
      ]
    },
    {
      "cell_type": "code",
      "metadata": {
        "id": "OnI4SnbEmP88",
        "colab_type": "code",
        "outputId": "666fe5f6-4a05-4357-890b-12273feadcff",
        "colab": {
          "base_uri": "https://localhost:8080/",
          "height": 34
        }
      },
      "source": [
        "model.predict_classes(np.expand_dims(X_test[0], axis=0))"
      ],
      "execution_count": 0,
      "outputs": [
        {
          "output_type": "execute_result",
          "data": {
            "text/plain": [
              "array([9])"
            ]
          },
          "metadata": {
            "tags": []
          },
          "execution_count": 29
        }
      ]
    },
    {
      "cell_type": "markdown",
      "metadata": {
        "id": "yW3HNzapEV47",
        "colab_type": "text"
      },
      "source": [
        "## Predicting, but obtaining the probabilities"
      ]
    },
    {
      "cell_type": "code",
      "metadata": {
        "id": "80LVXvFkEWEY",
        "colab_type": "code",
        "outputId": "82b2b1a8-3016-48df-92bb-f3c972a9f836",
        "colab": {
          "base_uri": "https://localhost:8080/",
          "height": 68
        }
      },
      "source": [
        "model.predict(np.expand_dims(X_test[0], axis=0))"
      ],
      "execution_count": 0,
      "outputs": [
        {
          "output_type": "execute_result",
          "data": {
            "text/plain": [
              "array([[1.3581870e-06, 6.7281570e-07, 6.8541738e-07, 1.7434925e-08,\n",
              "        3.1098918e-07, 1.2776222e-03, 7.1497811e-07, 6.0697873e-03,\n",
              "        5.8562990e-05, 9.9259031e-01]], dtype=float32)"
            ]
          },
          "metadata": {
            "tags": []
          },
          "execution_count": 31
        }
      ]
    },
    {
      "cell_type": "markdown",
      "metadata": {
        "id": "_j9LecHgmP8_",
        "colab_type": "text"
      },
      "source": [
        "## Predict on all the test data"
      ]
    },
    {
      "cell_type": "code",
      "metadata": {
        "id": "7TtfkDWjmP8_",
        "colab_type": "code",
        "colab": {}
      },
      "source": [
        "predictions = model.predict_classes(X_test)"
      ],
      "execution_count": 0,
      "outputs": []
    },
    {
      "cell_type": "code",
      "metadata": {
        "id": "xBmZspLUmP9C",
        "colab_type": "code",
        "outputId": "0fb129db-35a7-4187-cbf9-68adad28f5d6",
        "colab": {
          "base_uri": "https://localhost:8080/",
          "height": 34
        }
      },
      "source": [
        "predictions[0:15]"
      ],
      "execution_count": 0,
      "outputs": [
        {
          "output_type": "execute_result",
          "data": {
            "text/plain": [
              "array([9, 2, 1, 1, 6, 1, 4, 6, 5, 7, 4, 5, 8, 3, 4])"
            ]
          },
          "metadata": {
            "tags": []
          },
          "execution_count": 34
        }
      ]
    },
    {
      "cell_type": "markdown",
      "metadata": {
        "id": "yo4UgmBvmP9F",
        "colab_type": "text"
      },
      "source": [
        "## Compute the accuracy"
      ]
    },
    {
      "cell_type": "markdown",
      "metadata": {
        "id": "JKy0gGBhE2gX",
        "colab_type": "text"
      },
      "source": [
        "Before applying the `accuracy_score` function we need to conver the data into single class integers. In it's current form, the Y_test values aren't suitable. To address this, we can use the `np.argmax` function."
      ]
    },
    {
      "cell_type": "code",
      "metadata": {
        "id": "IC4YkbeoEyzT",
        "colab_type": "code",
        "outputId": "9e4a7dcb-3201-4634-adc8-0353facb577c",
        "colab": {
          "base_uri": "https://localhost:8080/",
          "height": 102
        }
      },
      "source": [
        "Y_test[0:5]"
      ],
      "execution_count": 0,
      "outputs": [
        {
          "output_type": "execute_result",
          "data": {
            "text/plain": [
              "array([[0., 0., 0., 0., 0., 0., 0., 0., 0., 1.],\n",
              "       [0., 0., 1., 0., 0., 0., 0., 0., 0., 0.],\n",
              "       [0., 1., 0., 0., 0., 0., 0., 0., 0., 0.],\n",
              "       [0., 1., 0., 0., 0., 0., 0., 0., 0., 0.],\n",
              "       [0., 0., 0., 0., 0., 0., 1., 0., 0., 0.]], dtype=float32)"
            ]
          },
          "metadata": {
            "tags": []
          },
          "execution_count": 37
        }
      ]
    },
    {
      "cell_type": "code",
      "metadata": {
        "id": "NwJwKLwRmP9G",
        "colab_type": "code",
        "colab": {}
      },
      "source": [
        "correct_values = np.argmax(Y_test,axis=1)"
      ],
      "execution_count": 0,
      "outputs": []
    },
    {
      "cell_type": "code",
      "metadata": {
        "id": "JsFBWoeyFHs2",
        "colab_type": "code",
        "outputId": "e11493fd-05da-4549-accf-668f77ba6e24",
        "colab": {
          "base_uri": "https://localhost:8080/",
          "height": 34
        }
      },
      "source": [
        "correct_values[0:5]"
      ],
      "execution_count": 0,
      "outputs": [
        {
          "output_type": "execute_result",
          "data": {
            "text/plain": [
              "array([9, 2, 1, 1, 6])"
            ]
          },
          "metadata": {
            "tags": []
          },
          "execution_count": 38
        }
      ]
    },
    {
      "cell_type": "code",
      "metadata": {
        "id": "N7keRohxmP9H",
        "colab_type": "code",
        "outputId": "f7bd7cdc-0956-41c0-e42e-e3b04f34aeca",
        "colab": {
          "base_uri": "https://localhost:8080/",
          "height": 34
        }
      },
      "source": [
        "accuracy_score(predictions,correct_values)*100"
      ],
      "execution_count": 0,
      "outputs": [
        {
          "output_type": "execute_result",
          "data": {
            "text/plain": [
              "89.5"
            ]
          },
          "metadata": {
            "tags": []
          },
          "execution_count": 36
        }
      ]
    },
    {
      "cell_type": "markdown",
      "metadata": {
        "id": "EjM46ttPFRan",
        "colab_type": "text"
      },
      "source": [
        "## Confusion matrix"
      ]
    },
    {
      "cell_type": "code",
      "metadata": {
        "id": "PJiTOY3aWjcX",
        "colab_type": "code",
        "outputId": "baa8cedc-f2bc-4168-8cbc-e1ac08707eb0",
        "colab": {
          "base_uri": "https://localhost:8080/",
          "height": 187
        }
      },
      "source": [
        "confusion_matrix(predictions,correct_values)"
      ],
      "execution_count": 0,
      "outputs": [
        {
          "output_type": "execute_result",
          "data": {
            "text/plain": [
              "array([[852,   1,  15,  21,   1,   0, 120,   0,   2,   0],\n",
              "       [  0, 965,   1,   6,   1,   0,   1,   0,   1,   0],\n",
              "       [ 20,   0, 875,  12, 112,   0,  79,   0,   3,   0],\n",
              "       [ 28,  24,   6, 908,  37,   0,  24,   0,   3,   0],\n",
              "       [  4,   3,  49,  19, 783,   0,  71,   0,   2,   0],\n",
              "       [  1,   0,   0,   0,   0, 975,   0,   8,   2,   5],\n",
              "       [ 88,   4,  54,  30,  65,   0, 693,   0,   5,   1],\n",
              "       [  0,   0,   0,   0,   0,  20,   0, 973,   4,  46],\n",
              "       [  7,   3,   0,   4,   1,   0,  12,   1, 978,   0],\n",
              "       [  0,   0,   0,   0,   0,   5,   0,  18,   0, 948]])"
            ]
          },
          "metadata": {
            "tags": []
          },
          "execution_count": 40
        }
      ]
    },
    {
      "cell_type": "code",
      "metadata": {
        "id": "FSKtAYriFQLO",
        "colab_type": "code",
        "colab": {}
      },
      "source": [
        ""
      ],
      "execution_count": 0,
      "outputs": []
    }
  ]
}