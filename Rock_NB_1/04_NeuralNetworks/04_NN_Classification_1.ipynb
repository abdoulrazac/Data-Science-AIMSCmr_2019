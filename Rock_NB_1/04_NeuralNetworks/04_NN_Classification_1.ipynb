{
 "cells": [
  {
   "cell_type": "markdown",
   "metadata": {
    "colab_type": "text",
    "id": "OpPhNErAUooE"
   },
   "source": [
    "## Feature based classification Prac 1\n",
    "\n",
    "\n",
    "***Adapted from Dr. Emmanuel Dufourq*** www.emmanueldufourq.com\n",
    "\n",
    "***African Institute for Mathematical Sciences***\n",
    "\n",
    "***Stellenbosch University***\n",
    "\n",
    "***2019***\n"
   ]
  },
  {
   "cell_type": "markdown",
   "metadata": {
    "colab_type": "text",
    "id": "Odaw35SnUk6H"
   },
   "source": [
    "## Various Python imports"
   ]
  },
  {
   "cell_type": "code",
   "execution_count": null,
   "metadata": {
    "colab": {},
    "colab_type": "code",
    "id": "U8M1nH2IzI7x"
   },
   "outputs": [],
   "source": [
    "import numpy as np\n",
    "np.random.seed(1337)\n",
    "import pandas\n",
    "from keras.models import Sequential\n",
    "from keras.layers import Dense\n",
    "from keras import metrics\n",
    "from sklearn.preprocessing import StandardScaler\n",
    "from sklearn.model_selection import train_test_split\n",
    "from sklearn.metrics import confusion_matrix, accuracy_score\n",
    "from tensorflow import set_random_seed\n",
    "import matplotlib.pyplot as plt\n",
    "from keras.utils import np_utils\n",
    "from sklearn.datasets import load_iris"
   ]
  },
  {
   "cell_type": "markdown",
   "metadata": {
    "colab_type": "text",
    "id": "H1VWGvj2zI8B"
   },
   "source": [
    "## Load the dataset"
   ]
  },
  {
   "cell_type": "code",
   "execution_count": null,
   "metadata": {
    "colab": {},
    "colab_type": "code",
    "id": "wae_HjknzI8E"
   },
   "outputs": [],
   "source": [
    "iris_data = load_iris()\n",
    "dataset = iris_data.data"
   ]
  },
  {
   "cell_type": "markdown",
   "metadata": {
    "colab_type": "text",
    "id": "nP7i2EOwyZVa"
   },
   "source": [
    "## View the data"
   ]
  },
  {
   "cell_type": "code",
   "execution_count": null,
   "metadata": {
    "colab": {
     "base_uri": "https://localhost:8080/",
     "height": 1000
    },
    "colab_type": "code",
    "id": "pM9-iHobzI8L",
    "outputId": "47a7fdae-e16c-4ba0-d8ee-d9931783e2a2"
   },
   "outputs": [],
   "source": [
    "dataset"
   ]
  },
  {
   "cell_type": "markdown",
   "metadata": {
    "colab_type": "text",
    "id": "UfeDy2AP1p2T"
   },
   "source": [
    "## Scaling"
   ]
  },
  {
   "cell_type": "code",
   "execution_count": null,
   "metadata": {
    "colab": {},
    "colab_type": "code",
    "id": "7a8npr1R1p8q"
   },
   "outputs": [],
   "source": [
    "scaled_data = StandardScaler().fit_transform(dataset)"
   ]
  },
  {
   "cell_type": "markdown",
   "metadata": {
    "colab_type": "text",
    "id": "ilPXKgzu2OWh"
   },
   "source": [
    "## View the scaled data"
   ]
  },
  {
   "cell_type": "code",
   "execution_count": null,
   "metadata": {
    "colab": {
     "base_uri": "https://localhost:8080/",
     "height": 1000
    },
    "colab_type": "code",
    "id": "lLCVDqei14kX",
    "outputId": "df198cee-2c7b-49ba-b93d-1d2beaad6bd8"
   },
   "outputs": [],
   "source": [
    "scaled_data"
   ]
  },
  {
   "cell_type": "markdown",
   "metadata": {
    "colab_type": "text",
    "id": "_5OWXzlh2QfI"
   },
   "source": [
    "## Check the shape of the data"
   ]
  },
  {
   "cell_type": "code",
   "execution_count": null,
   "metadata": {
    "colab": {
     "base_uri": "https://localhost:8080/",
     "height": 34
    },
    "colab_type": "code",
    "id": "zJRYNPCb2DKh",
    "outputId": "ecf98762-b97f-462b-974e-e5a12d7ab69f"
   },
   "outputs": [],
   "source": [
    "scaled_data.shape"
   ]
  },
  {
   "cell_type": "markdown",
   "metadata": {
    "colab_type": "text",
    "id": "xkjvHAwIzI8d"
   },
   "source": [
    "## Split the data into features and the class values"
   ]
  },
  {
   "cell_type": "code",
   "execution_count": null,
   "metadata": {
    "colab": {},
    "colab_type": "code",
    "id": "fpXOcpfNzI8f"
   },
   "outputs": [],
   "source": [
    "X = scaled_data\n",
    "Y = iris_data.target"
   ]
  },
  {
   "cell_type": "markdown",
   "metadata": {
    "colab_type": "text",
    "id": "8IN7hHj3Afac"
   },
   "source": [
    "## One hot encoding"
   ]
  },
  {
   "cell_type": "code",
   "execution_count": null,
   "metadata": {
    "colab": {},
    "colab_type": "code",
    "id": "maplMBltAfh-"
   },
   "outputs": [],
   "source": [
    "Y = np_utils.to_categorical(Y)"
   ]
  },
  {
   "cell_type": "markdown",
   "metadata": {
    "colab_type": "text",
    "id": "YiV6vedSyeKO"
   },
   "source": [
    "## Check the shapes of the data"
   ]
  },
  {
   "cell_type": "code",
   "execution_count": null,
   "metadata": {
    "colab": {
     "base_uri": "https://localhost:8080/",
     "height": 34
    },
    "colab_type": "code",
    "id": "reP8T4fuzI8k",
    "outputId": "5b2d6eea-c67b-44cc-8ec1-c6771174c1a8"
   },
   "outputs": [],
   "source": [
    "X.shape"
   ]
  },
  {
   "cell_type": "code",
   "execution_count": null,
   "metadata": {
    "colab": {
     "base_uri": "https://localhost:8080/",
     "height": 34
    },
    "colab_type": "code",
    "id": "IThy90cczI8r",
    "outputId": "41373e4a-1d53-4714-f2ae-3e6d3471de3c"
   },
   "outputs": [],
   "source": [
    "Y.shape"
   ]
  },
  {
   "cell_type": "markdown",
   "metadata": {
    "colab_type": "text",
    "id": "ENDcb5y1zI85"
   },
   "source": [
    "## Split the data into training and test data"
   ]
  },
  {
   "cell_type": "code",
   "execution_count": null,
   "metadata": {
    "colab": {},
    "colab_type": "code",
    "id": "KNRXxIANzI86"
   },
   "outputs": [],
   "source": [
    "X_train, X_test, Y_train, Y_test = train_test_split(X, Y, test_size=0.3)\n",
    "X_train, X_val, Y_train, Y_val = train_test_split(X_train, Y_train, test_size=0.3)"
   ]
  },
  {
   "cell_type": "markdown",
   "metadata": {
    "colab_type": "text",
    "id": "248QHMZlzI9d"
   },
   "source": [
    "## Task: Create a neural network model\n",
    "\n",
    "* You will have to define a model\n",
    "* You can add a number of dense layers\n",
    "* Remember to specify and intput dimension for the first layer (this is always  the case for the first layer only)\n",
    "* You will have to compile the model and define a metric"
   ]
  },
  {
   "cell_type": "code",
   "execution_count": null,
   "metadata": {
    "colab": {},
    "colab_type": "code",
    "id": "HJWPXPcfzI9f"
   },
   "outputs": [],
   "source": [
    "# define the model\n",
    "def baseline():\n",
    "    model = Sequential()\n",
    "    model.add(Dense(16, input_dim=4, activation='relu'))\n",
    "    model.add(Dense(8, activation='relu'))\n",
    "    model.add(Dense(3, activation='softmax'))\n",
    "    # Compile model\n",
    "    model.compile(loss='categorical_crossentropy', optimizer='adam', metrics=['accuracy'])\n",
    "    \n",
    "    return model"
   ]
  },
  {
   "cell_type": "markdown",
   "metadata": {
    "colab_type": "text",
    "id": "uJ8KXYqYzI9k"
   },
   "source": [
    "## Task: Initialise the model and set some parameters\n",
    "\n",
    "* Here your objective is to decide on the number of epochs to use\n",
    "* Replace the \"XX\" with your value."
   ]
  },
  {
   "cell_type": "code",
   "execution_count": null,
   "metadata": {
    "colab": {
     "base_uri": "https://localhost:8080/",
     "height": 207
    },
    "colab_type": "code",
    "id": "kUjCbeYxzI9l",
    "outputId": "e5d1f57b-9ce2-4c4d-e783-4f370918b86a"
   },
   "outputs": [],
   "source": [
    "model = baseline()"
   ]
  },
  {
   "cell_type": "markdown",
   "metadata": {
    "colab_type": "text",
    "id": "GyiaFBhbzI9p"
   },
   "source": [
    "## Determine the number of trainable parameters"
   ]
  },
  {
   "cell_type": "code",
   "execution_count": null,
   "metadata": {
    "colab": {
     "base_uri": "https://localhost:8080/",
     "height": 221
    },
    "colab_type": "code",
    "id": "dbOE34EezI9q",
    "outputId": "f5fcfeeb-89a0-4a27-a4ac-60c47df97f01"
   },
   "outputs": [],
   "source": [
    "model.summary()"
   ]
  },
  {
   "cell_type": "markdown",
   "metadata": {
    "colab_type": "text",
    "id": "HUPUuRN0zI9w"
   },
   "source": [
    "## Fit the model"
   ]
  },
  {
   "cell_type": "code",
   "execution_count": null,
   "metadata": {
    "colab": {
     "base_uri": "https://localhost:8080/",
     "height": 1000
    },
    "colab_type": "code",
    "id": "VACKCprNzI9y",
    "outputId": "8dded245-737b-4c1e-9957-81f3ea242e50"
   },
   "outputs": [],
   "source": [
    "history = model.fit(X_train, Y_train, validation_data=(X_val, Y_val) ,epochs = 35)"
   ]
  },
  {
   "cell_type": "markdown",
   "metadata": {
    "colab_type": "text",
    "id": "l85BylX5zI93"
   },
   "source": [
    "## Predict on the test data"
   ]
  },
  {
   "cell_type": "code",
   "execution_count": null,
   "metadata": {
    "colab": {},
    "colab_type": "code",
    "id": "MBpk0OtRzI95"
   },
   "outputs": [],
   "source": [
    "prediction = model.predict(X_test)"
   ]
  },
  {
   "cell_type": "markdown",
   "metadata": {
    "colab_type": "text",
    "id": "1-d6T3yCEA9D"
   },
   "source": [
    "## View predictions"
   ]
  },
  {
   "cell_type": "code",
   "execution_count": null,
   "metadata": {
    "colab": {
     "base_uri": "https://localhost:8080/",
     "height": 782
    },
    "colab_type": "code",
    "id": "BIZzxdWxEBE2",
    "outputId": "7a03d3a9-2408-452c-f89a-2973534e0a66"
   },
   "outputs": [],
   "source": [
    "prediction"
   ]
  },
  {
   "cell_type": "markdown",
   "metadata": {
    "colab_type": "text",
    "id": "sJJbCzFxEDLx"
   },
   "source": [
    "## Predict classes (instead of softmax output)"
   ]
  },
  {
   "cell_type": "code",
   "execution_count": null,
   "metadata": {
    "colab": {},
    "colab_type": "code",
    "id": "KFp91RkdEDSX"
   },
   "outputs": [],
   "source": [
    "prediction_classes = model.predict_classes(X_test)"
   ]
  },
  {
   "cell_type": "code",
   "execution_count": null,
   "metadata": {
    "colab": {
     "base_uri": "https://localhost:8080/",
     "height": 782
    },
    "colab_type": "code",
    "id": "vdIZKOZmEQfA",
    "outputId": "38f55a3f-7ff5-4e68-a7da-5f2d7377ad77"
   },
   "outputs": [],
   "source": [
    "Y_test"
   ]
  },
  {
   "cell_type": "markdown",
   "metadata": {
    "colab_type": "text",
    "id": "4eHpGjh1zI9-"
   },
   "source": [
    "## Compute the confusion matrix"
   ]
  },
  {
   "cell_type": "code",
   "execution_count": null,
   "metadata": {
    "colab": {
     "base_uri": "https://localhost:8080/",
     "height": 68
    },
    "colab_type": "code",
    "id": "JtqoZ6OuzI9_",
    "outputId": "dedfe2fc-523e-4331-c4fc-a8aab0473b14"
   },
   "outputs": [],
   "source": [
    "confusion_matrix(np.argmax(Y_test,1), prediction_classes)"
   ]
  },
  {
   "cell_type": "markdown",
   "metadata": {
    "colab_type": "text",
    "id": "1OyzzA6HEaBh"
   },
   "source": [
    "## Compute the accuracy"
   ]
  },
  {
   "cell_type": "code",
   "execution_count": null,
   "metadata": {
    "colab": {
     "base_uri": "https://localhost:8080/",
     "height": 34
    },
    "colab_type": "code",
    "id": "sTgIAAHIEaH2",
    "outputId": "da0c11a2-ece8-4eef-95a0-823400e4b4c1"
   },
   "outputs": [],
   "source": [
    "accuracy_score(np.argmax(Y_test,1), prediction_classes)"
   ]
  },
  {
   "cell_type": "markdown",
   "metadata": {
    "colab_type": "text",
    "id": "xP-Cv2PXzI-E"
   },
   "source": [
    "## Plot the error over the epochs"
   ]
  },
  {
   "cell_type": "code",
   "execution_count": null,
   "metadata": {
    "colab": {},
    "colab_type": "code",
    "id": "mnq0p4NEzI-G"
   },
   "outputs": [],
   "source": [
    "def plot_hist(h, xsize=6, ysize=10):\n",
    "\n",
    "    fig_size = plt.rcParams[\"figure.figsize\"]\n",
    "    plt.rcParams[\"figure.figsize\"] = [xsize, ysize]\n",
    "    fig, axes = plt.subplots(nrows=1, ncols=1, sharex=True)\n",
    "    \n",
    "    # summarize history for Accuracy\n",
    "    plt.subplot(211)\n",
    "    plt.plot(h['acc'])\n",
    "    plt.plot(h['val_acc'])\n",
    "    plt.title('Training Performance')\n",
    "    plt.ylabel('Accuracy')\n",
    "    plt.xlabel('Epochs')\n",
    "    plt.legend(['Train', 'Validation'], loc='best')\n",
    "    \n",
    "    plt.draw()\n",
    "    plt.show()\n",
    "\n",
    "    return"
   ]
  },
  {
   "cell_type": "code",
   "execution_count": null,
   "metadata": {
    "colab": {
     "base_uri": "https://localhost:8080/",
     "height": 374
    },
    "colab_type": "code",
    "id": "H9vb9q-PzI-L",
    "outputId": "2d1caddc-8602-483d-e763-bf2fc9993cf4"
   },
   "outputs": [],
   "source": [
    "plot_hist(history.history, xsize=8, ysize=12)"
   ]
  },
  {
   "cell_type": "code",
   "execution_count": null,
   "metadata": {
    "colab": {},
    "colab_type": "code",
    "id": "9sgSDDqE2uXx"
   },
   "outputs": [],
   "source": []
  }
 ],
 "metadata": {
  "colab": {
   "collapsed_sections": [],
   "name": "NN_Classification 1.ipynb",
   "provenance": []
  },
  "kernelspec": {
   "display_name": "Python 3",
   "language": "python",
   "name": "python3"
  },
  "language_info": {
   "codemirror_mode": {
    "name": "ipython",
    "version": 3
   },
   "file_extension": ".py",
   "mimetype": "text/x-python",
   "name": "python",
   "nbconvert_exporter": "python",
   "pygments_lexer": "ipython3",
   "version": "3.6.8"
  }
 },
 "nbformat": 4,
 "nbformat_minor": 1
}
