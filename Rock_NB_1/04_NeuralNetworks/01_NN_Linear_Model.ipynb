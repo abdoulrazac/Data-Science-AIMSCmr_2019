{
 "cells": [
  {
   "cell_type": "markdown",
   "metadata": {
    "colab_type": "text",
    "id": "OpPhNErAUooE"
   },
   "source": [
    "## Linear Models as Neural Networks Prac 1\n",
    "\n",
    "### Practical Introduction to Deep Learning - AIMS 2019\n",
    "\n",
    "***Adapted from Dr. Emmanuel Dufourq's  notebooks*** www.emmanueldufourq.com\n",
    "\n",
    "***African Institute for Mathematical Sciences***\n",
    "\n",
    "***Stellenbosch University***\n",
    "\n",
    "***2019***\n"
   ]
  },
  {
   "cell_type": "markdown",
   "metadata": {
    "colab_type": "text",
    "id": "Odaw35SnUk6H"
   },
   "source": [
    "## Various Python imports"
   ]
  },
  {
   "cell_type": "code",
   "execution_count": 1,
   "metadata": {
    "colab": {},
    "colab_type": "code",
    "id": "fpwaJGV_za2Z",
    "scrolled": true
   },
   "outputs": [
    {
     "ename": "ModuleNotFoundError",
     "evalue": "No module named 'tensorflow'",
     "output_type": "error",
     "traceback": [
      "\u001b[0;31m---------------------------------------------------------------------------\u001b[0m",
      "\u001b[0;31mModuleNotFoundError\u001b[0m                       Traceback (most recent call last)",
      "\u001b[0;32m<ipython-input-1-2d0ac56448d4>\u001b[0m in \u001b[0;36m<module>\u001b[0;34m()\u001b[0m\n\u001b[0;32m----> 1\u001b[0;31m \u001b[0;32mfrom\u001b[0m \u001b[0mtensorflow\u001b[0m \u001b[0;32mimport\u001b[0m \u001b[0mkeras\u001b[0m\u001b[0;34m\u001b[0m\u001b[0;34m\u001b[0m\u001b[0m\n\u001b[0m\u001b[1;32m      2\u001b[0m \u001b[0;32mimport\u001b[0m \u001b[0mnumpy\u001b[0m \u001b[0;32mas\u001b[0m \u001b[0mnp\u001b[0m\u001b[0;34m\u001b[0m\u001b[0;34m\u001b[0m\u001b[0m\n\u001b[1;32m      3\u001b[0m \u001b[0;32mimport\u001b[0m \u001b[0mtensorflow\u001b[0m \u001b[0;32mas\u001b[0m \u001b[0mtf\u001b[0m\u001b[0;34m\u001b[0m\u001b[0;34m\u001b[0m\u001b[0m\n\u001b[1;32m      4\u001b[0m \u001b[0;32mimport\u001b[0m \u001b[0mmatplotlib\u001b[0m\u001b[0;34m.\u001b[0m\u001b[0mpyplot\u001b[0m \u001b[0;32mas\u001b[0m \u001b[0mplt\u001b[0m\u001b[0;34m\u001b[0m\u001b[0;34m\u001b[0m\u001b[0m\n\u001b[1;32m      5\u001b[0m \u001b[0;34m\u001b[0m\u001b[0m\n",
      "\u001b[0;31mModuleNotFoundError\u001b[0m: No module named 'tensorflow'"
     ]
    }
   ],
   "source": [
    "from tensorflow import keras\n",
    "import numpy as np\n",
    "import tensorflow as tf\n",
    "import matplotlib.pyplot as plt\n",
    "\n",
    "\n",
    "%tensorflow_version 1.x\n",
    "import tensorflow as tf\n",
    "print(tf.__version__)"
   ]
  },
  {
   "cell_type": "markdown",
   "metadata": {
    "colab_type": "text",
    "id": "PtQ6RX8OUqrI"
   },
   "source": [
    "## Define a dataset"
   ]
  },
  {
   "cell_type": "code",
   "execution_count": 0,
   "metadata": {
    "colab": {},
    "colab_type": "code",
    "id": "fms0XDGyzeJb"
   },
   "outputs": [],
   "source": [
    "X=np.arange(-10, 15, 0.1).reshape(-1, 1)\n",
    "Y=X+4"
   ]
  },
  {
   "cell_type": "markdown",
   "metadata": {
    "colab_type": "text",
    "id": "_QMU1gJwVLxB"
   },
   "source": [
    "## What simple linear model do you think could be used to solve this problem?\n",
    "\n",
    "## y = .... ?"
   ]
  },
  {
   "cell_type": "markdown",
   "metadata": {
    "colab_type": "text",
    "id": "QN88rOm-U0GG"
   },
   "source": [
    "## Step 1: Define a sequential model"
   ]
  },
  {
   "cell_type": "code",
   "execution_count": 0,
   "metadata": {
    "colab": {},
    "colab_type": "code",
    "id": "fkbCxRIhzofE"
   },
   "outputs": [],
   "source": [
    "model = tf.keras.Sequential()"
   ]
  },
  {
   "cell_type": "markdown",
   "metadata": {
    "colab_type": "text",
    "id": "3YqW0vLiU2Qj"
   },
   "source": [
    "## Step 2: Add the first layer"
   ]
  },
  {
   "cell_type": "code",
   "execution_count": 0,
   "metadata": {
    "colab": {},
    "colab_type": "code",
    "id": "BaqVpp-8zuSz"
   },
   "outputs": [],
   "source": [
    "model.add(keras.layers.Dense(units=1, input_shape=[1], activation='linear'))"
   ]
  },
  {
   "cell_type": "markdown",
   "metadata": {
    "colab_type": "text",
    "id": "IX8I5x2xZ-nt"
   },
   "source": [
    "## Task: what does the model look like (if you had to draw it)?"
   ]
  },
  {
   "cell_type": "markdown",
   "metadata": {
    "colab_type": "text",
    "id": "ksv1Ax3fU4Mp"
   },
   "source": [
    "## Step 3: Compile the model"
   ]
  },
  {
   "cell_type": "code",
   "execution_count": 0,
   "metadata": {
    "colab": {},
    "colab_type": "code",
    "id": "B3E8n9b9z3wz"
   },
   "outputs": [],
   "source": [
    "model.compile(loss = \"mean_squared_error\", optimizer=\"sgd\", metrics=['mse'])"
   ]
  },
  {
   "cell_type": "markdown",
   "metadata": {
    "colab_type": "text",
    "id": "LQfSstLIYC9y"
   },
   "source": [
    "## Take a look at the model before training\n",
    "\n",
    "* Does the output shape make sense?\n",
    "\n",
    "* Why are there only two parameters?\n",
    "\n",
    "* What does trainable/non-trainable mean?"
   ]
  },
  {
   "cell_type": "code",
   "execution_count": 0,
   "metadata": {
    "colab": {
     "base_uri": "https://localhost:8080/",
     "height": 187
    },
    "colab_type": "code",
    "id": "Z5isFn42YDFj",
    "outputId": "2d70fbe2-f1db-4ac5-bdba-6d557bf52993"
   },
   "outputs": [
    {
     "name": "stdout",
     "output_type": "stream",
     "text": [
      "Model: \"sequential_6\"\n",
      "_________________________________________________________________\n",
      "Layer (type)                 Output Shape              Param #   \n",
      "=================================================================\n",
      "dense_7 (Dense)              (None, 1)                 2         \n",
      "=================================================================\n",
      "Total params: 2\n",
      "Trainable params: 2\n",
      "Non-trainable params: 0\n",
      "_________________________________________________________________\n"
     ]
    }
   ],
   "source": [
    "model.summary()"
   ]
  },
  {
   "cell_type": "markdown",
   "metadata": {
    "colab_type": "text",
    "id": "AQinhsDxU6mJ"
   },
   "source": [
    "## View the weights of the model"
   ]
  },
  {
   "cell_type": "code",
   "execution_count": 0,
   "metadata": {
    "colab": {
     "base_uri": "https://localhost:8080/",
     "height": 34
    },
    "colab_type": "code",
    "id": "WFJ7BBtW3zfT",
    "outputId": "d6e16746-51c4-49f7-d8a4-caffddbc648a"
   },
   "outputs": [
    {
     "data": {
      "text/plain": [
       "[array([[0.3509177]], dtype=float32), array([0.], dtype=float32)]"
      ]
     },
     "execution_count": 77,
     "metadata": {
      "tags": []
     },
     "output_type": "execute_result"
    }
   ],
   "source": [
    "model.get_weights()"
   ]
  },
  {
   "cell_type": "markdown",
   "metadata": {
    "colab_type": "text",
    "id": "3sXpNaW6XOcs"
   },
   "source": [
    "## What model does this represent?\n",
    "\n",
    "## y = ... ?"
   ]
  },
  {
   "cell_type": "markdown",
   "metadata": {
    "colab_type": "text",
    "id": "QyxYpCH1U8Qa"
   },
   "source": [
    "## View the initial output (prior to training) for a random value, here 34. \n",
    "\n",
    "## What should the correct output be?"
   ]
  },
  {
   "cell_type": "code",
   "execution_count": 0,
   "metadata": {
    "colab": {
     "base_uri": "https://localhost:8080/",
     "height": 34
    },
    "colab_type": "code",
    "id": "D1HQyeE332cM",
    "outputId": "733c9869-2c5c-45da-ad35-2bcfffe22739"
   },
   "outputs": [
    {
     "data": {
      "text/plain": [
       "array([[11.931202]], dtype=float32)"
      ]
     },
     "execution_count": 78,
     "metadata": {
      "tags": []
     },
     "output_type": "execute_result"
    }
   ],
   "source": [
    "model.predict([34.0])"
   ]
  },
  {
   "cell_type": "markdown",
   "metadata": {
    "colab_type": "text",
    "id": "liOHf0iOVAqO"
   },
   "source": [
    "## Step 4: Train the network"
   ]
  },
  {
   "cell_type": "code",
   "execution_count": 0,
   "metadata": {
    "colab": {
     "base_uri": "https://localhost:8080/",
     "height": 544
    },
    "colab_type": "code",
    "id": "ay5LYPLE0QAc",
    "outputId": "286c527f-a34d-4c61-d348-33c2653d20c9"
   },
   "outputs": [
    {
     "name": "stdout",
     "output_type": "stream",
     "text": [
      "Train on 250 samples\n",
      "Epoch 1/15\n",
      "250/250 [==============================] - 0s 193us/sample - loss: 18.0256 - mean_squared_error: 18.0256\n",
      "Epoch 2/15\n",
      "250/250 [==============================] - 0s 39us/sample - loss: 9.6971 - mean_squared_error: 9.6971\n",
      "Epoch 3/15\n",
      "250/250 [==============================] - 0s 39us/sample - loss: 7.2318 - mean_squared_error: 7.2318\n",
      "Epoch 4/15\n",
      "250/250 [==============================] - 0s 37us/sample - loss: 5.4480 - mean_squared_error: 5.4480\n",
      "Epoch 5/15\n",
      "250/250 [==============================] - 0s 40us/sample - loss: 4.0489 - mean_squared_error: 4.0489\n",
      "Epoch 6/15\n",
      "250/250 [==============================] - 0s 38us/sample - loss: 2.9972 - mean_squared_error: 2.9972\n",
      "Epoch 7/15\n",
      "250/250 [==============================] - 0s 38us/sample - loss: 2.3476 - mean_squared_error: 2.3476\n",
      "Epoch 8/15\n",
      "250/250 [==============================] - 0s 37us/sample - loss: 1.6869 - mean_squared_error: 1.6869\n",
      "Epoch 9/15\n",
      "250/250 [==============================] - 0s 39us/sample - loss: 1.2903 - mean_squared_error: 1.2903\n",
      "Epoch 10/15\n",
      "250/250 [==============================] - 0s 42us/sample - loss: 0.9565 - mean_squared_error: 0.9565\n",
      "Epoch 11/15\n",
      "250/250 [==============================] - 0s 37us/sample - loss: 0.7608 - mean_squared_error: 0.7608\n",
      "Epoch 12/15\n",
      "250/250 [==============================] - 0s 36us/sample - loss: 0.5307 - mean_squared_error: 0.5307\n",
      "Epoch 13/15\n",
      "250/250 [==============================] - 0s 39us/sample - loss: 0.3924 - mean_squared_error: 0.3924\n",
      "Epoch 14/15\n",
      "250/250 [==============================] - 0s 41us/sample - loss: 0.2989 - mean_squared_error: 0.2989\n",
      "Epoch 15/15\n",
      "250/250 [==============================] - 0s 47us/sample - loss: 0.2236 - mean_squared_error: 0.2236\n"
     ]
    }
   ],
   "source": [
    "history = model.fit(X, Y, epochs=15)"
   ]
  },
  {
   "cell_type": "markdown",
   "metadata": {
    "colab_type": "text",
    "id": "vonx2u7zX2Sg"
   },
   "source": [
    "## Plot the training history"
   ]
  },
  {
   "cell_type": "code",
   "execution_count": 0,
   "metadata": {
    "colab": {
     "base_uri": "https://localhost:8080/",
     "height": 513
    },
    "colab_type": "code",
    "id": "73VxGbc2V0X6",
    "outputId": "b1f3320f-6797-43f8-cc22-c6e624f2456a"
   },
   "outputs": [
    {
     "data": {
      "image/png": "[encoded data removed]",
      "text/plain": [
       "<Figure size 576x576 with 1 Axes>"
      ]
     },
     "metadata": {
      "tags": []
     },
     "output_type": "display_data"
    }
   ],
   "source": [
    "plt.figure(figsize=(8, 8))\n",
    "plt.plot(history.history['mean_squared_error'])\n",
    "plt.title('Model loss')\n",
    "plt.ylabel('Mean Squared Error')\n",
    "plt.xlabel('Epoch')\n",
    "plt.show()"
   ]
  },
  {
   "cell_type": "markdown",
   "metadata": {
    "colab_type": "text",
    "id": "EW2R3xkRX64b"
   },
   "source": [
    "## Predict on some value"
   ]
  },
  {
   "cell_type": "code",
   "execution_count": 0,
   "metadata": {
    "colab": {
     "base_uri": "https://localhost:8080/",
     "height": 34
    },
    "colab_type": "code",
    "id": "NM-xR-gQ0UUk",
    "outputId": "fde7a52d-5c43-4760-a3c9-a0a774febd54"
   },
   "outputs": [
    {
     "data": {
      "text/plain": [
       "array([[38.475014]], dtype=float32)"
      ]
     },
     "execution_count": 81,
     "metadata": {
      "tags": []
     },
     "output_type": "execute_result"
    }
   ],
   "source": [
    "model.predict([34.0])"
   ]
  },
  {
   "cell_type": "markdown",
   "metadata": {
    "colab_type": "text",
    "id": "PILO7dc3X8-C"
   },
   "source": [
    "## View the weights of the model"
   ]
  },
  {
   "cell_type": "code",
   "execution_count": 0,
   "metadata": {
    "colab": {
     "base_uri": "https://localhost:8080/",
     "height": 34
    },
    "colab_type": "code",
    "id": "Lb-IoZjr0Xlv",
    "outputId": "1162f4c3-06be-46a0-fcc2-6e903a73a752"
   },
   "outputs": [
    {
     "data": {
      "text/plain": [
       "[array([[1.0273342]], dtype=float32), array([3.5456488], dtype=float32)]"
      ]
     },
     "execution_count": 82,
     "metadata": {
      "tags": []
     },
     "output_type": "execute_result"
    }
   ],
   "source": [
    "model.get_weights()"
   ]
  },
  {
   "cell_type": "markdown",
   "metadata": {
    "colab_type": "text",
    "id": "Poxi1m3RYKAL"
   },
   "source": [
    "## Extract the first weight"
   ]
  },
  {
   "cell_type": "code",
   "execution_count": 0,
   "metadata": {
    "colab": {
     "base_uri": "https://localhost:8080/",
     "height": 34
    },
    "colab_type": "code",
    "id": "FweQvgdT0-gw",
    "outputId": "f36f5777-48ae-47a9-ebdb-31e1f46dd273"
   },
   "outputs": [
    {
     "data": {
      "text/plain": [
       "1.0273342"
      ]
     },
     "execution_count": 83,
     "metadata": {
      "tags": []
     },
     "output_type": "execute_result"
    }
   ],
   "source": [
    "model.layers[0].get_weights()[0][0][0]"
   ]
  },
  {
   "cell_type": "markdown",
   "metadata": {
    "colab_type": "text",
    "id": "KF4bhUCHYMUn"
   },
   "source": [
    "## Extract the bias"
   ]
  },
  {
   "cell_type": "code",
   "execution_count": 0,
   "metadata": {
    "colab": {
     "base_uri": "https://localhost:8080/",
     "height": 34
    },
    "colab_type": "code",
    "id": "CIRl5-0D1SB_",
    "outputId": "58d10e11-a0ce-4fb2-9ded-25cff08eba55"
   },
   "outputs": [
    {
     "data": {
      "text/plain": [
       "3.5456488"
      ]
     },
     "execution_count": 84,
     "metadata": {
      "tags": []
     },
     "output_type": "execute_result"
    }
   ],
   "source": [
    "model.layers[0].get_weights()[1][0]"
   ]
  },
  {
   "cell_type": "markdown",
   "metadata": {
    "colab_type": "text",
    "id": "tOr7mYWIYN74"
   },
   "source": [
    "## Insert the values, does this give the same result as the predict function?"
   ]
  },
  {
   "cell_type": "code",
   "execution_count": 0,
   "metadata": {
    "colab": {
     "base_uri": "https://localhost:8080/",
     "height": 34
    },
    "colab_type": "code",
    "id": "aHzEw_gE1k5V",
    "outputId": "5a1597be-218f-458a-e461-f322bc06c490"
   },
   "outputs": [
    {
     "data": {
      "text/plain": [
       "38.4750120639801"
      ]
     },
     "execution_count": 85,
     "metadata": {
      "tags": []
     },
     "output_type": "execute_result"
    }
   ],
   "source": [
    "34*model.layers[0].get_weights()[0][0][0] + model.layers[0].get_weights()[1][0]"
   ]
  },
  {
   "cell_type": "markdown",
   "metadata": {
    "colab_type": "text",
    "id": "x5RTMm6_Mt8T"
   },
   "source": [
    "## Plot the results"
   ]
  },
  {
   "cell_type": "code",
   "execution_count": 0,
   "metadata": {
    "colab": {
     "base_uri": "https://localhost:8080/",
     "height": 269
    },
    "colab_type": "code",
    "id": "PDnULuxYMuBx",
    "outputId": "872c50af-88c0-4256-99cb-78ae3cbde0f2"
   },
   "outputs": [
    {
     "data": {
      "image/png": "[encoded data removed]",
      "text/plain": [
       "<Figure size 432x288 with 1 Axes>"
      ]
     },
     "metadata": {
      "tags": []
     },
     "output_type": "display_data"
    }
   ],
   "source": [
    "plt.plot(X,Y,color='r',label='Correct output')\n",
    "plt.plot(X,model.predict(X),color='b',label='Network output')\n",
    "plt.legend(loc='center')\n",
    "plt.show()"
   ]
  },
  {
   "cell_type": "markdown",
   "metadata": {
    "colab_type": "text",
    "id": "ZIj4X767Yk-3"
   },
   "source": [
    "## Tasks\n",
    "\n",
    "* Run the notebook yourself and check that you understand the various aspects\n",
    "\n",
    "* Try predicting for another value, is the answer correct?\n",
    "\n",
    "* Train the model for a different number of epochs (e.g. small number of epochs), are the results as good? ***NOTE: if you want to train a model again after changing a hyper-parameter you need to execute the model initialisation again. If not, you will resume training from whatever state the weights and biases were previously!***\n",
    "\n",
    "* Try using a different activation function, eg: sigmoid, relu or tanh.\n",
    "\n",
    "\n"
   ]
  },
  {
   "cell_type": "code",
   "execution_count": 0,
   "metadata": {
    "colab": {},
    "colab_type": "code",
    "id": "N2L3NNX0ZR2l"
   },
   "outputs": [],
   "source": []
  }
 ],
 "metadata": {
  "colab": {
   "collapsed_sections": [],
   "name": "Lesson1_NN_Linear_Model.ipynb",
   "provenance": []
  },
  "kernelspec": {
   "display_name": "Python 3",
   "language": "python",
   "name": "python3"
  },
  "language_info": {
   "codemirror_mode": {
    "name": "ipython",
    "version": 3
   },
   "file_extension": ".py",
   "mimetype": "text/x-python",
   "name": "python",
   "nbconvert_exporter": "python",
   "pygments_lexer": "ipython3",
   "version": "3.6.8"
  }
 },
 "nbformat": 4,
 "nbformat_minor": 1
}
